{
 "cells": [
  {
   "cell_type": "markdown",
   "metadata": {
    "id": "7_UUx6zR6nRW"
   },
   "source": [
    "Welcome to the first handson!!!\n",
    "- In this handson you will be building an deep neural network network for multiclass classification using softmax regression.\n",
    "- You will also be implementing minibatch gradient descent to train you network\n",
    "- Follow the instruction provided for cell to write the code in each cell."
   ]
  },
  {
   "cell_type": "code",
   "execution_count": 2,
   "metadata": {
    "id": "KGPs0lcK8Eww"
   },
   "outputs": [],
   "source": [
    "#Run this cell without modifying\n",
    "import hashlib\n",
    "import pickle\n",
    "def gethex(ovalue):\n",
    "  hexresult=hashlib.md5(str(ovalue).encode())\n",
    "  return hexresult.hexdigest()\n"
   ]
  },
  {
   "cell_type": "markdown",
   "metadata": {
    "collapsed": true,
    "id": "k74NAyxS6nRY"
   },
   "source": [
    "- The data is provided as file named 'data.csv' in data folder\n",
    "\n",
    "---\n",
    "\n",
    "\n",
    "- The data has two features feature1 and feature2 and one targer variable which is a binary value\n",
    "- Using pandas read the csv file and assign the resulting dataframe to variable 'data'   \n",
    "- for example if file name is 'xyz.csv' read file as **pd.read_csv('xyz.csv')**\n",
    "- Packages to import: **pandas** (to read csv file)"
   ]
  },
  {
   "cell_type": "code",
   "execution_count": 3,
   "metadata": {
    "id": "zvNXabzi6nRa"
   },
   "outputs": [
    {
     "name": "stdout",
     "output_type": "stream",
     "text": [
      "   feature1  feature2  class\n",
      "0  0.986038  0.065523    3.0\n",
      "1 -1.460077  1.651296    3.0\n",
      "2 -0.896203 -1.279647    3.0\n",
      "3  0.094218 -5.933941    2.0\n",
      "4  2.864974 -8.743053    1.0\n"
     ]
    }
   ],
   "source": [
    "###start code here\n",
    "                 #import pandas\n",
    "import pandas as pd    \n",
    "data = pd.read_csv(\"data/data.csv\")\n",
    "### end code(aprox 2 lines)\n",
    "print(data.head())"
   ]
  },
  {
   "cell_type": "markdown",
   "metadata": {
    "id": "I5uf8jMB6nRj"
   },
   "source": [
    "- Extract feature1 and feature2 values from dataframe 'df' and assign it to variable 'X'\n",
    "- Extract target variable 'traget' and assign it to variable 'y'.  \n",
    "Hint:\n",
    " - Use .values to exract values from dataframe"
   ]
  },
  {
   "cell_type": "code",
   "execution_count": 4,
   "metadata": {
    "id": "H2K2H87Y6nRk"
   },
   "outputs": [
    {
     "name": "stdout",
     "output_type": "stream",
     "text": [
      "target labels:  [0.0, 1.0, 2.0, 3.0]\n"
     ]
    }
   ],
   "source": [
    "#Start Code\n",
    "X =  data[['feature1', 'feature2']].values                                        #Extract feature1 and feature2 values\n",
    "Y =  data['class'].values                                        #Extract target values\n",
    "#End code\n",
    "print(\"target labels: \", list(set(Y)))\n",
    "\n",
    "assert X.shape == (2000, 2)\n",
    "assert Y.shape == (2000, )"
   ]
  },
  {
   "cell_type": "markdown",
   "metadata": {
    "id": "coc0hY-46nRs"
   },
   "source": [
    "- There are four target lables mapped as 0,1,2 and 3\n",
    "- Run the below cell to visualize the data in x-y plane. (visualization code has been written for you)\n",
    "- The blue spots corresponds to target value 0, green corresponds to 1, red corresponds to 2 and yellow to 4."
   ]
  },
  {
   "cell_type": "code",
   "execution_count": 5,
   "metadata": {
    "id": "FSZ4j6-W6nRt"
   },
   "outputs": [
    {
     "data": {
      "text/plain": [
       "<Figure size 640x480 with 1 Axes>"
      ]
     },
     "metadata": {},
     "output_type": "display_data"
    }
   ],
   "source": [
    "import matplotlib.pyplot as plt\n",
    "import matplotlib.colors\n",
    "colors=['blue','green','red', 'yellow']\n",
    "cmap = matplotlib.colors.ListedColormap(colors)\n",
    "#Plot the figure\n",
    "plt.figure()\n",
    "plt.title('Non-linearly separable classes')\n",
    "plt.scatter(X[:,0], X[:,1], c=Y,\n",
    "           marker= 'o', s=50,cmap=cmap,alpha = 0.5 )\n",
    "plt.show()"
   ]
  },
  {
   "cell_type": "markdown",
   "metadata": {
    "id": "PtcTRloa6nR4"
   },
   "source": [
    "import tensorflow package as tf"
   ]
  },
  {
   "cell_type": "code",
   "execution_count": 6,
   "metadata": {
    "id": "LP_BAQr_6nR6"
   },
   "outputs": [],
   "source": [
    "import tensorflow as tf\n",
    "import numpy as np\n",
    "#import tensorflow"
   ]
  },
  {
   "cell_type": "markdown",
   "metadata": {
    "id": "K5rYaoof6nSA"
   },
   "source": [
    "- perform one hot encoding on target Y. Use tensorflow's one_hot() function, make sure mapping is done column-wise"
   ]
  },
  {
   "cell_type": "code",
   "execution_count": 7,
   "metadata": {
    "id": "nND5lzjk6nSC"
   },
   "outputs": [
    {
     "name": "stdout",
     "output_type": "stream",
     "text": [
      "labels:  [0.0, 1.0, 2.0, 3.0]\n",
      "\n",
      "first five rows of target Y:\n",
      " [3. 3. 3. 2. 1.]\n",
      "\n",
      "first five rows of target Y_onehot:\n",
      " [[0. 0. 0. 0. 0.]\n",
      " [0. 0. 0. 0. 1.]\n",
      " [0. 0. 0. 1. 0.]\n",
      " [1. 1. 1. 0. 0.]]\n",
      "X dimension:(2000, 2) ,Y_onehot dimension:(4, 2000)\n"
     ]
    }
   ],
   "source": [
    "labels = list(set(Y))\n",
    "#Start Code\n",
    "depth = len(np.unique(Y))                    #number of unique labels\n",
    "#End code\n",
    "print(\"labels: \", labels)\n",
    "with tf.Session() as sess:\n",
    "###start code here\n",
    "     YtrainOneHot = tf.one_hot(Y, depth, axis = 0) # columnwise: axis = 0, axis=-1 row-wise\n",
    "     Y_onehot = sess.run(YtrainOneHot)\n",
    "###End code\n",
    "assert Y_onehot.shape == (4, 2000)\n",
    "\n",
    "print(\"\\nfirst five rows of target Y:\\n\", Y[:5])\n",
    "print(\"\\nfirst five rows of target Y_onehot:\\n\", Y_onehot[:,:5])\n",
    "print(\"X dimension:{} ,Y_onehot dimension:{}\".format(X.shape, Y_onehot.shape))"
   ]
  },
  {
   "cell_type": "markdown",
   "metadata": {
    "id": "8wi9-lBX6nSJ"
   },
   "source": [
    "- In order to feed the network the input has to be of **shape (number of features, number of samples)** and target should be of shape **(1, number of samples)**\n",
    "- Transpose X and assign it to variable 'X_data'\n",
    "- target Y_onehot is already in shape, so just assign Y to variable Y_data"
   ]
  },
  {
   "cell_type": "code",
   "execution_count": 8,
   "metadata": {
    "id": "HAf7sEFH6nSK"
   },
   "outputs": [],
   "source": [
    "##Start code\n",
    "X_data = X.T\n",
    "Y_data = Y_onehot\n",
    "##End code"
   ]
  },
  {
   "cell_type": "markdown",
   "metadata": {
    "id": "eSttVaEe6nSU"
   },
   "source": [
    "Define the network dimension to have two input features, two hidden layers with 25 nodes each, 4 output nodes at final layer. "
   ]
  },
  {
   "cell_type": "code",
   "execution_count": 9,
   "metadata": {
    "id": "gWLX3-st6nSW"
   },
   "outputs": [],
   "source": [
    "#Start code\n",
    "layer_dims = [2, 25, 25, 4]\n",
    "#End code"
   ]
  },
  {
   "cell_type": "markdown",
   "metadata": {
    "id": "RMNtd1yT6nSb"
   },
   "source": [
    "Define a function named placeholders to return two placeholders one for input data as A_0 and one for output data as Y.\n",
    "- Set the datatype of placeholders as float64\n",
    "- parameters - num_features\n",
    "- Returns - A_0 with shape (num_feature, None) and Y with shape(1,None)"
   ]
  },
  {
   "cell_type": "code",
   "execution_count": 10,
   "metadata": {
    "id": "H18cAEe86nSd"
   },
   "outputs": [],
   "source": [
    "def placeholders(num_features, num_classes):\n",
    "    A_0 = tf.placeholder(dtype = tf.float64, shape = ([num_features,None]))\n",
    "    Y = tf.placeholder(dtype = tf.float64, shape = ([num_classes,None]))\n",
    "    return A_0,Y"
   ]
  },
  {
   "cell_type": "markdown",
   "metadata": {
    "id": "hKbALeoa6nSk"
   },
   "source": [
    "Define function named initialize_parameters_deep() to initialize weights and bias for each layer\n",
    "- Use tf.get_variable to initialise weights and bias, set datatype as float64\n",
    "- Make sure you are using xavier initialization for weigths and initialize bias to zeros\n",
    "- Parameters - layer_dims\n",
    "- Returns - dictionary of weights and bias"
   ]
  },
  {
   "cell_type": "code",
   "execution_count": 11,
   "metadata": {
    "id": "v7CmwfdK6nSl"
   },
   "outputs": [],
   "source": [
    "def initialize_parameters_deep(layer_dims):\n",
    "    tf.set_random_seed(1)\n",
    "    L = len(layer_dims)\n",
    "    parameters = {}\n",
    "    for l in range(1,L):\n",
    "        parameters['W' + str(l)] = tf.get_variable(\"W\" + str(l), shape=[layer_dims[l], layer_dims[l-1]], dtype = tf.float64,\n",
    "                                   initializer=tf.contrib.layers.xavier_initializer())\n",
    "        parameters['b' + str(l)] = tf.get_variable(\"b\"+ str(l), shape = [layer_dims[l], 1], dtype= tf.float64, initializer= tf.zeros_initializer() )\n",
    "    return parameters "
   ]
  },
  {
   "cell_type": "markdown",
   "metadata": {
    "id": "jh_Q4HNt6nSr"
   },
   "source": [
    "Define functon named linear_forward_prop() to define forward propagation for a given layer.\n",
    "- parameters: A_prev(output from previous layer), W(weigth matrix of current layer), b(bias vector for current layer),activation(type of activation to be used for out of current layer)  \n",
    "- returns: A(output from the current layer)\n",
    "- Use relu activation for hidden layers and for final output layer return the output unactivated i.e if activation is 'softmax'"
   ]
  },
  {
   "cell_type": "code",
   "execution_count": 12,
   "metadata": {
    "id": "TBQgv8DL6nSr"
   },
   "outputs": [],
   "source": [
    "def linear_forward_prop(A_prev,W,b, activation):\n",
    "    #Start code here \n",
    "    Z =  tf.add(tf.matmul(W, A_prev), b)       \n",
    "    if activation == \"softmax\":\n",
    "        A = Z\n",
    "    elif activation == \"relu\":\n",
    "        A = tf.nn.relu(Z) \n",
    "    return A\n",
    "   #End code"
   ]
  },
  {
   "cell_type": "markdown",
   "metadata": {
    "id": "ej1F7G0Y6nSw"
   },
   "source": [
    "forward propagation for entire network is defined for you as l_layer_forward(). We are not using any regularization technique here."
   ]
  },
  {
   "cell_type": "code",
   "execution_count": 13,
   "metadata": {
    "id": "rOClLuMh6nSy"
   },
   "outputs": [],
   "source": [
    "def l_layer_forwardProp(A_0, parameters):\n",
    "    A = A_0\n",
    "    L = len(parameters)//2\n",
    "    for l in range(1,L):\n",
    "        A_prev = A\n",
    "        A = linear_forward_prop(A_prev, parameters['W' + str(l)], parameters['b' + str(l)], \"relu\")\n",
    "    A = linear_forward_prop(A, parameters['W' + str(L)], parameters['b' + str(L)], \"softmax\" )\n",
    "    return A"
   ]
  },
  {
   "cell_type": "markdown",
   "metadata": {
    "id": "MDl4aRCx6nTc"
   },
   "source": [
    "- Define cost function as final_cost()\n",
    "- The logits and target value has to be in shape (number of samples, number of class) for      \n",
    "softmax_cross_entropy_with_logits() function to calculate cost\n",
    "- since Z_final and Y are tensoflow object we are using tf.transpose() before feeding  softmax_cross_entropy_with_logits()"
   ]
  },
  {
   "cell_type": "code",
   "execution_count": 14,
   "metadata": {
    "id": "3-GcRnwB6nTp"
   },
   "outputs": [],
   "source": [
    "def final_cost(Z_final, Y ):\n",
    "    logits = tf.transpose(Z_final)\n",
    "    labels = tf.transpose(Y)\n",
    "    ###Start code\n",
    "    cost = tf.nn.softmax_cross_entropy_with_logits(logits=logits, labels=labels)    ###End code\n",
    "    return tf.reduce_mean(cost)"
   ]
  },
  {
   "cell_type": "markdown",
   "metadata": {
    "id": "eZIJy6ck6nWG"
   },
   "source": [
    "Define the function to generate mini-batches."
   ]
  },
  {
   "cell_type": "code",
   "execution_count": 15,
   "metadata": {
    "id": "BFPbGQpA6nWN"
   },
   "outputs": [],
   "source": [
    "import numpy as np\n",
    "def random_samples_minibatch(X, Y, batch_size, seed = 1):\n",
    "    np.random.seed(seed)\n",
    "    m = X.shape[1]                                 #number of samples\n",
    "    num_batches = int(m/batch_size)                #number of batches derived from batch_size\n",
    "    indices = np.random.permutation(m)             # generate ramdom indicies\n",
    "    shuffle_X = X[:,indices]\n",
    "    shuffle_Y = Y[:,indices]\n",
    "    mini_batches = []\n",
    "    \n",
    "    #generate minibatch\n",
    "    for i in range(num_batches):\n",
    "        ##Start code here\n",
    "        X_batch = shuffle_X[:,i * batch_size:(i+1) * batch_size]\n",
    "        Y_batch = shuffle_Y[:,i * batch_size:(i+1) * batch_size]\n",
    "        ##End code\n",
    "        \n",
    "        assert X_batch.shape == (X.shape[0], batch_size)\n",
    "        assert Y_batch.shape == (Y.shape[0], batch_size)\n",
    "        \n",
    "        mini_batches.append((X_batch, Y_batch))\n",
    "    \n",
    "    #generate batch with remaining number of samples\n",
    "    if m % batch_size != 0:\n",
    "        ##Srart code here\n",
    "        X_batch = shuffle_X[:, (num_batches * batch_size):]\n",
    "        Y_batch = shuffle_Y[:, (num_batches * batch_size):]\n",
    "        ##Srart code here\n",
    "        mini_batches.append((X_batch, Y_batch))\n",
    "    return mini_batches"
   ]
  },
  {
   "cell_type": "markdown",
   "metadata": {
    "id": "ypBc0SeL6nWg"
   },
   "source": [
    "Define the model to train the network using minibatch\n",
    "- parameters:\n",
    "  - X_train, Y_train: input and target data\n",
    "  - layer_dims: network configuration\n",
    "  - learning_rate\n",
    "  - num_iter: number of epoches\n",
    "  - mini_batch_size: number of samples to be considered in each minibatch\n",
    "- return: dictionary of trained parameters"
   ]
  },
  {
   "cell_type": "code",
   "execution_count": 16,
   "metadata": {
    "id": "g4uZl5CJ6nWi"
   },
   "outputs": [],
   "source": [
    "def model_with_minibatch(X_train,Y_train, layer_dims, learning_rate, num_iter, mini_batch_size):\n",
    "    \n",
    "    tf.reset_default_graph()\n",
    "    num_features, num_samples = X_train.shape\n",
    "    num_classes = Y_train.shape[0]\n",
    "    A_0, Y = placeholders(num_features, num_classes)\n",
    "    parameters = initialize_parameters_deep(layer_dims)\n",
    "    Z_final = l_layer_forwardProp(A_0, parameters)\n",
    "    cost = final_cost(Z_final, Y)\n",
    "    train_net = tf.train.GradientDescentOptimizer(learning_rate).minimize(cost)\n",
    "    seed = 1\n",
    "    num_minibatches = int(num_samples / mini_batch_size)\n",
    "    init = tf.global_variables_initializer()\n",
    "    costs = []\n",
    "    \n",
    "    with tf.Session() as sess:\n",
    "        sess.run(init)\n",
    "        for epoch in range(num_iter):\n",
    "            epoch_cost = 0\n",
    "            mini_batches = random_samples_minibatch(X_train, Y_train, mini_batch_size, seed) #generate array of minibatch using random_samples_minibatch()\n",
    "            seed = seed + 1\n",
    "            \n",
    "            #perform gradient descent for each mini-batch\n",
    "            for mini_batch in mini_batches: \n",
    "                ##Start code\n",
    "                X_batch, Y_batch = mini_batch\n",
    "                _,mini_batch_cost = sess.run([train_net, cost], feed_dict={A_0: X_batch, Y: Y_batch})\n",
    "                ##End code\n",
    "                \n",
    "                epoch_cost += mini_batch_cost/num_minibatches\n",
    "            if epoch % 1 == 0:\n",
    "                costs.append(epoch_cost)\n",
    "            if epoch % 10 == 0:\n",
    "                print(epoch_cost)\n",
    "        #save your answer in pkl file. Donot modify\n",
    "        with open('output/output1.pkl', 'wb') as file:\n",
    "          hexresult=gethex(round(costs[-1],2))\n",
    "          print(hexresult)\n",
    "          pickle.dump(hexresult,file)\n",
    "            \n",
    "        plt.ylim(0, max(costs), 0.0001)\n",
    "        plt.xlabel(\"epoches per 100\")\n",
    "        plt.ylabel(\"cost\")\n",
    "        plt.plot(costs)\n",
    "        plt.show()\n",
    "        params = sess.run(parameters)\n",
    "    return params"
   ]
  },
  {
   "cell_type": "code",
   "execution_count": 17,
   "metadata": {
    "id": "FGaaY55-6nWv"
   },
   "outputs": [
    {
     "name": "stdout",
     "output_type": "stream",
     "text": [
      "0.8797401636011671\n",
      "0.39547961779391066\n",
      "0.33954503596502617\n",
      "0.30608861826531714\n",
      "0.2880744663267645\n",
      "0.2753135010039041\n",
      "0.2704542798552976\n",
      "0.26571231209151247\n",
      "0.26219009614350147\n",
      "0.26331014633095196\n",
      "261943f3a93b683ceeac658927f3923f\n"
     ]
    },
    {
     "data": {
      "image/png": "[encoded data removed]",
      "text/plain": [
       "<Figure size 432x288 with 1 Axes>"
      ]
     },
     "metadata": {
      "needs_background": "light"
     },
     "output_type": "display_data"
    }
   ],
   "source": [
    "params = model_with_minibatch(X.T, Y_onehot, layer_dims, 0.01, 100, 32)"
   ]
  },
  {
   "cell_type": "markdown",
   "metadata": {
    "id": "qeqMpDcY6nXH"
   },
   "source": [
    "- The function to predict the ouput has been defined for you.  \n",
    "- The function takes input and trained parameters and predict the output using forward propagation  \n",
    "- the arg_max function returns the index of largest probability value in out y of each sample  "
   ]
  },
  {
   "cell_type": "code",
   "execution_count": 18,
   "metadata": {
    "id": "dKOzwDsR6nXJ"
   },
   "outputs": [],
   "source": [
    "def predict(X_train, params):\n",
    "    with tf.Session() as sess:\n",
    "        Y = tf.arg_max(l_layer_forwardProp(X_train,params), dimension=0)\n",
    "        return sess.run(Y)"
   ]
  },
  {
   "cell_type": "markdown",
   "metadata": {
    "id": "N94lGAiv6nXa"
   },
   "source": [
    "Run the next two cell to visualize the boundary predicted by the model (This takes slightly longer time for the plot to appear)\n"
   ]
  },
  {
   "cell_type": "code",
   "execution_count": 19,
   "metadata": {
    "id": "htqkYKOT6nXc"
   },
   "outputs": [],
   "source": [
    "def plot_decision_boundary1( X, y, model):\n",
    "    plt.clf()\n",
    "    # Set min and max values and give it some padding\n",
    "    x_min, x_max = X[0, :].min() - 1, X[0, :].max() + 1\n",
    "    y_min, y_max = X[1, :].min() - 1, X[1, :].max() + 1   \n",
    "    colors=['blue','green','red', 'yellow']\n",
    "    cmap = matplotlib.colors.ListedColormap(colors)   \n",
    "    h = 0.01\n",
    "    # Generate a grid of points with distance h between them\n",
    "    xx, yy = np.meshgrid(np.arange(x_min, x_max, h), np.arange(y_min, y_max, h))\n",
    "    # Predict the function value for the whole grid\n",
    "    A = model(np.c_[xx.ravel(), yy.ravel()])\n",
    "    A = A.reshape(xx.shape)\n",
    "    # Plot the contour and training examples\n",
    "    plt.contourf(xx, yy, A, cmap=\"spring\")\n",
    "    plt.ylabel('x2')\n",
    "    plt.xlabel('x1')\n",
    "    plt.scatter(X[0, :], X[1, :], c=y, s=8,cmap=cmap)\n",
    "    plt.title(\"Decision Boundary\")\n",
    "    plt.show()"
   ]
  },
  {
   "cell_type": "code",
   "execution_count": 20,
   "metadata": {
    "id": "iPPY2HUe6nXq"
   },
   "outputs": [
    {
     "data": {
      "image/png": "[encoded data removed]",
      "text/plain": [
       "<Figure size 432x288 with 1 Axes>"
      ]
     },
     "metadata": {
      "needs_background": "light"
     },
     "output_type": "display_data"
    }
   ],
   "source": [
    "plot_decision_boundary1(X_data,Y,lambda x: predict(x.T,params))"
   ]
  },
  {
   "cell_type": "code",
   "execution_count": null,
   "metadata": {},
   "outputs": [],
   "source": []
  },
  {
   "cell_type": "code",
   "execution_count": null,
   "metadata": {},
   "outputs": [],
   "source": []
  },
  {
   "cell_type": "code",
   "execution_count": null,
   "metadata": {},
   "outputs": [],
   "source": []
  },
  {
   "cell_type": "code",
   "execution_count": null,
   "metadata": {},
   "outputs": [],
   "source": []
  },
  {
   "cell_type": "code",
   "execution_count": null,
   "metadata": {},
   "outputs": [],
   "source": []
  },
  {
   "cell_type": "code",
   "execution_count": null,
   "metadata": {},
   "outputs": [],
   "source": []
  }
 ],
 "metadata": {
  "colab": {
   "collapsed_sections": [],
   "name": "HandsOn2_question.ipynb",
   "provenance": []
  },
  "kernelspec": {
   "display_name": "Python 3",
   "language": "python",
   "name": "python3"
  },
  "language_info": {
   "codemirror_mode": {
    "name": "ipython",
    "version": 3
   },
   "file_extension": ".py",
   "mimetype": "text/x-python",
   "name": "python",
   "nbconvert_exporter": "python",
   "pygments_lexer": "ipython3",
   "version": "3.5.2"
  }
 },
 "nbformat": 4,
 "nbformat_minor": 1
}
