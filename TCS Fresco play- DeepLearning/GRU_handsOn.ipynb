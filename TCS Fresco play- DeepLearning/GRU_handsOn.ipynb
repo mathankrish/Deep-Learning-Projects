{
  "cells": [
    {
      "cell_type": "markdown",
      "metadata": {
        "id": "a3V3vKJUvIcu"
      },
      "source": [
        "### In this hands on you will be using Gated Recurrent Units to predict the airline passenger count in a given month based on the information from previous months.\n",
        "\n",
        "- Follow the instructions provided for each cell and and code accordingly. \n",
        "- In order to run the cell press shift+enter.\n",
        "- make sure you have run all the cells before submitting the hands on"
      ]
    },
    {
      "cell_type": "markdown",
      "metadata": {
        "id": "YxkIc_DSvIc9"
      },
      "source": [
        "### Run the below cell to import necessary packages"
      ]
    },
    {
      "cell_type": "code",
      "execution_count": null,
      "metadata": {
        "id": "8SqWklYEvIdA"
      },
      "outputs": [],
      "source": [
        "# pip install -U scikit-learn"
      ]
    },
    {
      "cell_type": "code",
      "execution_count": null,
      "metadata": {
        "id": "LXmLz_AmvIdH"
      },
      "outputs": [],
      "source": [
        "import numpy\n",
        "import matplotlib.pyplot as plt\n",
        "import pandas\n",
        "import math\n",
        "from keras.models import Sequential\n",
        "from keras.layers import Dense\n",
        "from keras.layers import LSTM, GRU\n",
        "from sklearn.preprocessing import MinMaxScaler\n",
        "from sklearn.metrics import mean_squared_error"
      ]
    },
    {
      "cell_type": "markdown",
      "metadata": {
        "id": "Wlv2yEd4vIdL"
      },
      "source": [
        "- Read data from air_line.csv file using pandas and assign the values of \"passenger_count\" column to variable **dataset**, \n",
        "- typecast passenger count values values to float32\n",
        "### Expected output\n",
        "[[112.]\n",
        " [118.]\n",
        " [132.]\n",
        " [129.]\n",
        " [121.]\n",
        " [135.]\n",
        " [148.]\n",
        " [148.]\n",
        " [136.]\n",
        " [119.]]"
      ]
    },
    {
      "cell_type": "code",
      "execution_count": null,
      "metadata": {
        "colab": {
          "base_uri": "https://localhost:8080/"
        },
        "id": "jJtEttgLvIdN",
        "outputId": "09afb472-06a2-4bab-ec31-8e922f40664a"
      },
      "outputs": [
        {
          "output_type": "stream",
          "name": "stdout",
          "text": [
            "   passenger_count\n",
            "0            112.0\n",
            "1            118.0\n",
            "2            132.0\n",
            "3            129.0\n",
            "4            121.0\n",
            "5            135.0\n",
            "6            148.0\n",
            "7            148.0\n",
            "8            136.0\n",
            "9            119.0\n"
          ]
        }
      ],
      "source": [
        "###Start code here\n",
        "dataset = pandas.read_csv(\"air_line.csv\", dtype = {\"passenger_count\" : numpy.float64})\n",
        "###End code\n",
        "dataset.drop(\"month\", inplace = True, axis = 1)\n",
        "#dataset = dataset.astype('float32')\n",
        "print(dataset[:10])"
      ]
    },
    {
      "cell_type": "markdown",
      "metadata": {
        "id": "oNjD-7mbvIdR"
      },
      "source": [
        "Use MinMaxScaler to normalize the values of **dataset** between the range 0 to 1  \n",
        "### Expected output\n",
        "[[0.01544401]\n",
        " [0.02702703]\n",
        " [0.05405405]\n",
        " [0.04826255]\n",
        " [0.03281853]\n",
        " [0.05984557]\n",
        " [0.08494207]\n",
        " [0.08494207]\n",
        " [0.06177607]\n",
        " [0.02895753]]"
      ]
    },
    {
      "cell_type": "code",
      "execution_count": null,
      "metadata": {
        "colab": {
          "base_uri": "https://localhost:8080/"
        },
        "id": "dBrUCTZcvIdU",
        "outputId": "49935753-aa64-4eeb-f933-0f851bc803b2"
      },
      "outputs": [
        {
          "output_type": "execute_result",
          "data": {
            "text/plain": [
              "(144, 1)"
            ]
          },
          "metadata": {},
          "execution_count": 85
        }
      ],
      "source": [
        "dataset.shape"
      ]
    },
    {
      "cell_type": "code",
      "execution_count": null,
      "metadata": {
        "colab": {
          "base_uri": "https://localhost:8080/"
        },
        "id": "Pl-SNFflvIdW",
        "outputId": "202a2a5a-aa1c-459e-cf8a-203efedae78f"
      },
      "outputs": [
        {
          "output_type": "stream",
          "name": "stdout",
          "text": [
            "[[0.01544402]\n",
            " [0.02702703]\n",
            " [0.05405405]\n",
            " [0.04826255]\n",
            " [0.03281853]\n",
            " [0.05984556]\n",
            " [0.08494208]\n",
            " [0.08494208]\n",
            " [0.06177606]\n",
            " [0.02895753]]\n"
          ]
        }
      ],
      "source": [
        "##Start code here\n",
        "\n",
        "scaler = MinMaxScaler()\n",
        "dataset = scaler.fit_transform(dataset)\n",
        "###End code\n",
        "print(dataset[:10])"
      ]
    },
    {
      "cell_type": "markdown",
      "metadata": {
        "id": "PqHpZIF0vIdY"
      },
      "source": [
        "### Train test split the dataset  \n",
        "- Assign to first 100 values of dataset to variable **train** and remaining values to variable **test**\n",
        "### Expected output:\n",
        "100 44"
      ]
    },
    {
      "cell_type": "code",
      "execution_count": null,
      "metadata": {
        "colab": {
          "base_uri": "https://localhost:8080/"
        },
        "id": "kUGs4F6FvIdZ",
        "outputId": "9644969d-87db-4ae4-9889-5d0df6d166ec"
      },
      "outputs": [
        {
          "output_type": "stream",
          "name": "stdout",
          "text": [
            "100 44\n"
          ]
        }
      ],
      "source": [
        "###Start code here\n",
        "\n",
        "train, test = dataset[:100], dataset[100:]\n",
        "###End code\n",
        "print(len(train), len(test))"
      ]
    },
    {
      "cell_type": "markdown",
      "metadata": {
        "id": "yGS3JhTKvIda"
      },
      "source": [
        "### write a function to generate training dataset \n",
        "    - parameters: dataset: orginal dataset\n",
        "                  look_back: the window size that tells the number of previous values in the series to look for to                   predict the next one.\n",
        "    - returns: feature and target arrays\n",
        "\n",
        "example: \n",
        "         for window size 1:\n",
        "         dataset = [1,2,3,4]  \n",
        "         feature = [[1],[2],[3]]    \n",
        "         target = [2,3,4]  \n",
        "         \n",
        "         for window size 2:\n",
        "         feature = [[1,2],[2,3]]  \n",
        "         target = [3,4]  "
      ]
    },
    {
      "cell_type": "code",
      "execution_count": null,
      "metadata": {
        "id": "TjWqQl_avIdc"
      },
      "outputs": [],
      "source": [
        "###Start code\n",
        "def generate_dataset(dataset, look_back=1):\n",
        "    dataX, dataY = [], []\n",
        "    for i in range(len(dataset)-look_back - 1):\n",
        "       \n",
        "        seq_in = dataset[i:i + look_back]\n",
        "        #print('seq in : ', seq_in)\n",
        "        seq_out = dataset[i + look_back]\n",
        "        #print('seq out : ', seq_out)\n",
        "        dataX.append(seq_in)\n",
        "        dataY.append(seq_out)\n",
        "    return numpy.array(dataX).reshape(-1, 1), numpy.array(dataY).ravel()\n",
        "    \n",
        "    \n",
        "###End code"
      ]
    },
    {
      "cell_type": "markdown",
      "metadata": {
        "id": "ZEg_aWARvIdd"
      },
      "source": [
        "### the below cell uses the method you defined above to generate feature and target datasets on train and teat data\n",
        "### Expected output:\n",
        "(98, 1)  \n",
        "(98,)  \n",
        "(42, 1)  \n",
        "(42,)  \n",
        "[[0.01544401]  \n",
        " [0.02702703]]  \n",
        "[0.02702703 0.05405405]  "
      ]
    },
    {
      "cell_type": "code",
      "execution_count": null,
      "metadata": {
        "colab": {
          "base_uri": "https://localhost:8080/"
        },
        "id": "3gOvcm5pvIde",
        "outputId": "2d243415-1eea-410d-917f-6ca91ce57922"
      },
      "outputs": [
        {
          "output_type": "stream",
          "name": "stdout",
          "text": [
            "(98, 1)\n",
            "(98,)\n",
            "(42, 1)\n",
            "(42,)\n",
            "[[0.01544402]\n",
            " [0.02702703]]\n",
            "[0.02702703 0.05405405]\n"
          ]
        }
      ],
      "source": [
        "look_back = 1\n",
        "trainX, trainY = generate_dataset(train, look_back)\n",
        "testX, testY = generate_dataset(test, look_back)\n",
        "print(trainX.shape)\n",
        "print(trainY.shape)\n",
        "print(testX.shape)\n",
        "print(testY.shape)\n",
        "print(trainX[:2])\n",
        "print(trainY[:2])"
      ]
    },
    {
      "cell_type": "markdown",
      "metadata": {
        "id": "ytWAuoPXvIdf"
      },
      "source": [
        "### Reshape the trainX and testX dataset to (number of samples, 1, look_back)\n",
        "\n",
        "### Expected output:\n",
        "(98, 1, 1)  \n",
        "(98,)  \n",
        "(42, 1, 1)  \n",
        "(42,)  "
      ]
    },
    {
      "cell_type": "code",
      "execution_count": null,
      "metadata": {
        "scrolled": true,
        "colab": {
          "base_uri": "https://localhost:8080/"
        },
        "id": "QHrZQ9XtvIdg",
        "outputId": "66a2e39d-8adf-498a-bce5-6a9521f1726e"
      },
      "outputs": [
        {
          "output_type": "stream",
          "name": "stdout",
          "text": [
            "(98, 1, 1)\n",
            "(98,)\n",
            "(42, 1, 1)\n",
            "(42,)\n"
          ]
        }
      ],
      "source": [
        "###Start code here\n",
        "trainX = trainX.reshape(len(trainX), 1, look_back)\n",
        "testX = testX.reshape(len(testX), 1, look_back)\n",
        "###End code\n",
        "print(trainX.shape)\n",
        "print(trainY.shape)\n",
        "print(testX.shape)\n",
        "print(testY.shape)"
      ]
    },
    {
      "cell_type": "markdown",
      "metadata": {
        "id": "Zdp4_u_lvIdg"
      },
      "source": [
        "#### Using keras Sequential() class create a model having one GRU block (with 4 neurons) and one dense layer\n",
        "### compile the model with mean_squared_error loss adam optimizer\n",
        "\n",
        "### Expected output\n",
        "<img src = 'summary.png' />"
      ]
    },
    {
      "cell_type": "code",
      "execution_count": null,
      "metadata": {
        "colab": {
          "base_uri": "https://localhost:8080/"
        },
        "id": "uJ534GpcvIdh",
        "outputId": "8177aa2b-ae3a-4dd0-9f22-a85468f571af"
      },
      "outputs": [
        {
          "output_type": "stream",
          "name": "stdout",
          "text": [
            "Model: \"sequential_5\"\n",
            "_________________________________________________________________\n",
            " Layer (type)                Output Shape              Param #   \n",
            "=================================================================\n",
            " gru_5 (GRU)                 (None, 4)                 84        \n",
            "                                                                 \n",
            " dense_5 (Dense)             (None, 1)                 5         \n",
            "                                                                 \n",
            "=================================================================\n",
            "Total params: 89\n",
            "Trainable params: 89\n",
            "Non-trainable params: 0\n",
            "_________________________________________________________________\n"
          ]
        }
      ],
      "source": [
        "numpy.random.seed(51)\n",
        "###Start code here\n",
        "model = Sequential()\n",
        "model.add(GRU(4, input_shape = (trainX.shape[1], trainX.shape[2])))\n",
        "model.add(Dense(1, activation = \"sigmoid\"))\n",
        "model.compile(loss='mean_squared_error', optimizer='adam')\n",
        "###End code\n",
        "model.summary()"
      ]
    },
    {
      "cell_type": "markdown",
      "metadata": {
        "id": "zZvNqNDFvIdi"
      },
      "source": [
        "### Run model.fit() on train data for 30 epoches and batch_size = 1"
      ]
    },
    {
      "cell_type": "code",
      "execution_count": null,
      "metadata": {
        "colab": {
          "base_uri": "https://localhost:8080/"
        },
        "id": "RvL68UsqvIdi",
        "outputId": "8b829ff5-a5ce-4ca8-91ab-e42404ded71c"
      },
      "outputs": [
        {
          "output_type": "stream",
          "name": "stdout",
          "text": [
            "Epoch 1/30\n",
            "98/98 [==============================] - 2s 3ms/step - loss: 0.0812\n",
            "Epoch 2/30\n",
            "98/98 [==============================] - 0s 2ms/step - loss: 0.0519\n",
            "Epoch 3/30\n",
            "98/98 [==============================] - 0s 3ms/step - loss: 0.0330\n",
            "Epoch 4/30\n",
            "98/98 [==============================] - 0s 2ms/step - loss: 0.0244\n",
            "Epoch 5/30\n",
            "98/98 [==============================] - 0s 3ms/step - loss: 0.0213\n",
            "Epoch 6/30\n",
            "98/98 [==============================] - 0s 2ms/step - loss: 0.0200\n",
            "Epoch 7/30\n",
            "98/98 [==============================] - 0s 2ms/step - loss: 0.0192\n",
            "Epoch 8/30\n",
            "98/98 [==============================] - 0s 2ms/step - loss: 0.0184\n",
            "Epoch 9/30\n",
            "98/98 [==============================] - 0s 2ms/step - loss: 0.0177\n",
            "Epoch 10/30\n",
            "98/98 [==============================] - 0s 3ms/step - loss: 0.0168\n",
            "Epoch 11/30\n",
            "98/98 [==============================] - 0s 2ms/step - loss: 0.0160\n",
            "Epoch 12/30\n",
            "98/98 [==============================] - 0s 2ms/step - loss: 0.0152\n",
            "Epoch 13/30\n",
            "98/98 [==============================] - 0s 2ms/step - loss: 0.0144\n",
            "Epoch 14/30\n",
            "98/98 [==============================] - 0s 2ms/step - loss: 0.0135\n",
            "Epoch 15/30\n",
            "98/98 [==============================] - 0s 2ms/step - loss: 0.0126\n",
            "Epoch 16/30\n",
            "98/98 [==============================] - 0s 2ms/step - loss: 0.0117\n",
            "Epoch 17/30\n",
            "98/98 [==============================] - 0s 2ms/step - loss: 0.0108\n",
            "Epoch 18/30\n",
            "98/98 [==============================] - 0s 2ms/step - loss: 0.0099\n",
            "Epoch 19/30\n",
            "98/98 [==============================] - 0s 2ms/step - loss: 0.0091\n",
            "Epoch 20/30\n",
            "98/98 [==============================] - 0s 2ms/step - loss: 0.0084\n",
            "Epoch 21/30\n",
            "98/98 [==============================] - 0s 2ms/step - loss: 0.0076\n",
            "Epoch 22/30\n",
            "98/98 [==============================] - 0s 2ms/step - loss: 0.0069\n",
            "Epoch 23/30\n",
            "98/98 [==============================] - 0s 2ms/step - loss: 0.0063\n",
            "Epoch 24/30\n",
            "98/98 [==============================] - 0s 2ms/step - loss: 0.0058\n",
            "Epoch 25/30\n",
            "98/98 [==============================] - 0s 2ms/step - loss: 0.0052\n",
            "Epoch 26/30\n",
            "98/98 [==============================] - 0s 2ms/step - loss: 0.0048\n",
            "Epoch 27/30\n",
            "98/98 [==============================] - 0s 2ms/step - loss: 0.0044\n",
            "Epoch 28/30\n",
            "98/98 [==============================] - 0s 2ms/step - loss: 0.0041\n",
            "Epoch 29/30\n",
            "98/98 [==============================] - 0s 2ms/step - loss: 0.0038\n",
            "Epoch 30/30\n",
            "98/98 [==============================] - 0s 2ms/step - loss: 0.0036\n"
          ]
        },
        {
          "output_type": "execute_result",
          "data": {
            "text/plain": [
              "<keras.callbacks.History at 0x7ff54006ab10>"
            ]
          },
          "metadata": {},
          "execution_count": 92
        }
      ],
      "source": [
        "###Start code\n",
        "model.fit(trainX, trainY, epochs = 30, batch_size = 1)\n",
        "###End code"
      ]
    },
    {
      "cell_type": "markdown",
      "metadata": {
        "id": "-HjGqRzavIdj"
      },
      "source": [
        "#### using model.predict assign the predicted output on trainX and test X to trainPredicy and testPredict variables respectively\n",
        "#### since the data was normalized previously invert the values to their original form (hint: use .invert_transform())"
      ]
    },
    {
      "cell_type": "code",
      "source": [
        "# trainPredict = model.predict(trainX)\n",
        "\n",
        "# testPredict = model.predict(testX)\n",
        "\n",
        "# trainPredict = scaler.inverse_transform(trainPredict)[:, [0]]\n",
        "# trainY = scaler.inverse_transform(trainY.reshape(-1, 1))[:, [0]]\n",
        "\n",
        "# trainY"
      ],
      "metadata": {
        "id": "emsjbyIlzRLy"
      },
      "execution_count": null,
      "outputs": []
    },
    {
      "cell_type": "code",
      "execution_count": null,
      "metadata": {
        "colab": {
          "base_uri": "https://localhost:8080/"
        },
        "id": "Sf-UEpWOvIdl",
        "outputId": "89010535-fd23-48a2-bd23-36759da4d0b3"
      },
      "outputs": [
        {
          "output_type": "stream",
          "name": "stdout",
          "text": [
            "4/4 [==============================] - 0s 3ms/step\n",
            "2/2 [==============================] - 0s 6ms/step\n"
          ]
        }
      ],
      "source": [
        "###Start code here\n",
        "trainPredict = model.predict(trainX)\n",
        "\n",
        "testPredict = model.predict(testX)\n",
        "\n",
        "trainPredict = scaler.inverse_transform(trainPredict)\n",
        "trainY = scaler.inverse_transform(trainY.reshape(-1, 1))[:, [0]]\n",
        "testPredict = scaler.inverse_transform(testPredict)\n",
        "testY = scaler.inverse_transform(testY.reshape(-1, 1))[:, [0]]\n",
        "\n",
        "###End code\n"
      ]
    },
    {
      "cell_type": "code",
      "source": [
        "trainPredict[0, :]"
      ],
      "metadata": {
        "colab": {
          "base_uri": "https://localhost:8080/"
        },
        "id": "_cKTWZ8-1jg3",
        "outputId": "4b163b15-2991-4538-cc22-411df6623799"
      },
      "execution_count": null,
      "outputs": [
        {
          "output_type": "execute_result",
          "data": {
            "text/plain": [
              "array([160.68204], dtype=float32)"
            ]
          },
          "metadata": {},
          "execution_count": 99
        }
      ]
    },
    {
      "cell_type": "code",
      "source": [
        "# calculate root mean squared error\n",
        "trainScore = math.sqrt(mean_squared_error(trainY[0], trainPredict[0,:]))\n",
        "print('Train Score: %.2f RMSE' % (trainScore))\n",
        "testScore = math.sqrt(mean_squared_error(testY[0], testPredict[0,:]))\n",
        "print('Test Score: %.2f RMSE' % (testScore))\n",
        "\n",
        "with open(\"output.txt\", \"w+\") as file:\n",
        "    file.write(\"train score {0:.2f}\\n\".format(trainScore))\n",
        "    file.write(\"test score {0:.2f}\".format(testScore))"
      ],
      "metadata": {
        "colab": {
          "base_uri": "https://localhost:8080/"
        },
        "id": "5_iduilj1Dov",
        "outputId": "6bb3e085-a842-4c6d-d78e-85a575afdadf"
      },
      "execution_count": null,
      "outputs": [
        {
          "output_type": "stream",
          "name": "stdout",
          "text": [
            "Train Score: 42.68 RMSE\n",
            "Test Score: 89.79 RMSE\n"
          ]
        }
      ]
    },
    {
      "cell_type": "markdown",
      "metadata": {
        "id": "GXlQ4Cg8vIdl"
      },
      "source": [
        "### Run the below cell to plot the train as well as predicted passenger counts.\n",
        "### you can observe that the predicted results follow the same trend as of train data."
      ]
    },
    {
      "cell_type": "code",
      "execution_count": null,
      "metadata": {
        "colab": {
          "base_uri": "https://localhost:8080/",
          "height": 265
        },
        "id": "GGj76HqGvIdm",
        "outputId": "f784d051-47d5-4456-9868-d490493085fa"
      },
      "outputs": [
        {
          "output_type": "display_data",
          "data": {
            "text/plain": [
              "<Figure size 432x288 with 1 Axes>"
            ],
            "image/png": "[encoded data removed]"
          },
          "metadata": {
            "needs_background": "light"
          }
        }
      ],
      "source": [
        "trainPredictPlot = numpy.empty_like(dataset)\n",
        "trainPredictPlot[:, :] = numpy.nan\n",
        "trainPredictPlot[look_back:len(trainPredict)+look_back, :] = trainPredict\n",
        "# shift test predictions for plotting\n",
        "testPredictPlot = numpy.empty_like(dataset)\n",
        "testPredictPlot[:, :] = numpy.nan\n",
        "testPredictPlot[len(trainPredict)+(look_back*2)+1:len(dataset)-1, :] = testPredict\n",
        "# plot baseline and predictions\n",
        "plt.plot(scaler.inverse_transform(dataset))\n",
        "plt.plot(trainPredictPlot)\n",
        "plt.plot(testPredictPlot)\n",
        "plt.show()"
      ]
    },
    {
      "cell_type": "code",
      "source": [],
      "metadata": {
        "id": "n-GPNIUFx5b9"
      },
      "execution_count": null,
      "outputs": []
    }
  ],
  "metadata": {
    "kernelspec": {
      "display_name": "Python 3",
      "language": "python",
      "name": "python3"
    },
    "language_info": {
      "codemirror_mode": {
        "name": "ipython",
        "version": 3
      },
      "file_extension": ".py",
      "mimetype": "text/x-python",
      "name": "python",
      "nbconvert_exporter": "python",
      "pygments_lexer": "ipython3",
      "version": "3.5.2"
    },
    "colab": {
      "provenance": []
    }
  },
  "nbformat": 4,
  "nbformat_minor": 0
}