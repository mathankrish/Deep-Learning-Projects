{
  "cells": [
    {
      "cell_type": "markdown",
      "metadata": {
        "id": "aLDBfBoIhWKu"
      },
      "source": [
        "## Hyperparameter Tuning\n",
        "\n",
        "In this exercise you will be building a Neural network for which, you will be tuning the **Model Parameters** to find out the parameters with which the model perform its best.\n",
        "\n",
        "You will using \n",
        "\n",
        "1. `Grid Search`\n",
        "2. `Random Search`\n"
      ]
    },
    {
      "cell_type": "markdown",
      "metadata": {
        "id": "uMlKXHGrICb3"
      },
      "source": [
        "### 1. Import the Packages"
      ]
    },
    {
      "cell_type": "code",
      "source": [
        "!pip install wrangle"
      ],
      "metadata": {
        "colab": {
          "base_uri": "https://localhost:8080/"
        },
        "id": "KBttABpWaS1h",
        "outputId": "1b714d31-efdb-45fa-8e2d-bed181b5bd6a"
      },
      "execution_count": 1,
      "outputs": [
        {
          "output_type": "stream",
          "name": "stdout",
          "text": [
            "Looking in indexes: https://pypi.org/simple, https://us-python.pkg.dev/colab-wheels/public/simple/\n",
            "Collecting wrangle\n",
            "  Downloading wrangle-0.7.2-py3-none-any.whl (52 kB)\n",
            "\u001b[K     |████████████████████████████████| 52 kB 817 kB/s \n",
            "\u001b[?25hRequirement already satisfied: numpy in /usr/local/lib/python3.7/dist-packages (from wrangle) (1.21.6)\n",
            "Requirement already satisfied: pandas in /usr/local/lib/python3.7/dist-packages (from wrangle) (1.3.5)\n",
            "Requirement already satisfied: tensorflow in /usr/local/lib/python3.7/dist-packages (from wrangle) (2.9.2)\n",
            "Requirement already satisfied: statsmodels>=0.11.0 in /usr/local/lib/python3.7/dist-packages (from wrangle) (0.12.2)\n",
            "Requirement already satisfied: scipy in /usr/local/lib/python3.7/dist-packages (from wrangle) (1.7.3)\n",
            "Collecting sklearn\n",
            "  Downloading sklearn-0.0.post1.tar.gz (3.6 kB)\n",
            "Requirement already satisfied: patsy>=0.5 in /usr/local/lib/python3.7/dist-packages (from statsmodels>=0.11.0->wrangle) (0.5.3)\n",
            "Requirement already satisfied: pytz>=2017.3 in /usr/local/lib/python3.7/dist-packages (from pandas->wrangle) (2022.6)\n",
            "Requirement already satisfied: python-dateutil>=2.7.3 in /usr/local/lib/python3.7/dist-packages (from pandas->wrangle) (2.8.2)\n",
            "Requirement already satisfied: six in /usr/local/lib/python3.7/dist-packages (from patsy>=0.5->statsmodels>=0.11.0->wrangle) (1.15.0)\n",
            "Requirement already satisfied: opt-einsum>=2.3.2 in /usr/local/lib/python3.7/dist-packages (from tensorflow->wrangle) (3.3.0)\n",
            "Requirement already satisfied: typing-extensions>=3.6.6 in /usr/local/lib/python3.7/dist-packages (from tensorflow->wrangle) (4.1.1)\n",
            "Requirement already satisfied: packaging in /usr/local/lib/python3.7/dist-packages (from tensorflow->wrangle) (21.3)\n",
            "Requirement already satisfied: setuptools in /usr/local/lib/python3.7/dist-packages (from tensorflow->wrangle) (57.4.0)\n",
            "Requirement already satisfied: flatbuffers<2,>=1.12 in /usr/local/lib/python3.7/dist-packages (from tensorflow->wrangle) (1.12)\n",
            "Requirement already satisfied: gast<=0.4.0,>=0.2.1 in /usr/local/lib/python3.7/dist-packages (from tensorflow->wrangle) (0.4.0)\n",
            "Requirement already satisfied: termcolor>=1.1.0 in /usr/local/lib/python3.7/dist-packages (from tensorflow->wrangle) (2.1.0)\n",
            "Requirement already satisfied: astunparse>=1.6.0 in /usr/local/lib/python3.7/dist-packages (from tensorflow->wrangle) (1.6.3)\n",
            "Requirement already satisfied: tensorflow-io-gcs-filesystem>=0.23.1 in /usr/local/lib/python3.7/dist-packages (from tensorflow->wrangle) (0.27.0)\n",
            "Requirement already satisfied: keras-preprocessing>=1.1.1 in /usr/local/lib/python3.7/dist-packages (from tensorflow->wrangle) (1.1.2)\n",
            "Requirement already satisfied: protobuf<3.20,>=3.9.2 in /usr/local/lib/python3.7/dist-packages (from tensorflow->wrangle) (3.19.6)\n",
            "Requirement already satisfied: wrapt>=1.11.0 in /usr/local/lib/python3.7/dist-packages (from tensorflow->wrangle) (1.14.1)\n",
            "Requirement already satisfied: keras<2.10.0,>=2.9.0rc0 in /usr/local/lib/python3.7/dist-packages (from tensorflow->wrangle) (2.9.0)\n",
            "Requirement already satisfied: tensorboard<2.10,>=2.9 in /usr/local/lib/python3.7/dist-packages (from tensorflow->wrangle) (2.9.1)\n",
            "Requirement already satisfied: absl-py>=1.0.0 in /usr/local/lib/python3.7/dist-packages (from tensorflow->wrangle) (1.3.0)\n",
            "Requirement already satisfied: h5py>=2.9.0 in /usr/local/lib/python3.7/dist-packages (from tensorflow->wrangle) (3.1.0)\n",
            "Requirement already satisfied: tensorflow-estimator<2.10.0,>=2.9.0rc0 in /usr/local/lib/python3.7/dist-packages (from tensorflow->wrangle) (2.9.0)\n",
            "Requirement already satisfied: google-pasta>=0.1.1 in /usr/local/lib/python3.7/dist-packages (from tensorflow->wrangle) (0.2.0)\n",
            "Requirement already satisfied: grpcio<2.0,>=1.24.3 in /usr/local/lib/python3.7/dist-packages (from tensorflow->wrangle) (1.50.0)\n",
            "Requirement already satisfied: libclang>=13.0.0 in /usr/local/lib/python3.7/dist-packages (from tensorflow->wrangle) (14.0.6)\n",
            "Requirement already satisfied: wheel<1.0,>=0.23.0 in /usr/local/lib/python3.7/dist-packages (from astunparse>=1.6.0->tensorflow->wrangle) (0.38.3)\n",
            "Requirement already satisfied: cached-property in /usr/local/lib/python3.7/dist-packages (from h5py>=2.9.0->tensorflow->wrangle) (1.5.2)\n",
            "Requirement already satisfied: werkzeug>=1.0.1 in /usr/local/lib/python3.7/dist-packages (from tensorboard<2.10,>=2.9->tensorflow->wrangle) (1.0.1)\n",
            "Requirement already satisfied: markdown>=2.6.8 in /usr/local/lib/python3.7/dist-packages (from tensorboard<2.10,>=2.9->tensorflow->wrangle) (3.4.1)\n",
            "Requirement already satisfied: requests<3,>=2.21.0 in /usr/local/lib/python3.7/dist-packages (from tensorboard<2.10,>=2.9->tensorflow->wrangle) (2.23.0)\n",
            "Requirement already satisfied: tensorboard-data-server<0.7.0,>=0.6.0 in /usr/local/lib/python3.7/dist-packages (from tensorboard<2.10,>=2.9->tensorflow->wrangle) (0.6.1)\n",
            "Requirement already satisfied: tensorboard-plugin-wit>=1.6.0 in /usr/local/lib/python3.7/dist-packages (from tensorboard<2.10,>=2.9->tensorflow->wrangle) (1.8.1)\n",
            "Requirement already satisfied: google-auth<3,>=1.6.3 in /usr/local/lib/python3.7/dist-packages (from tensorboard<2.10,>=2.9->tensorflow->wrangle) (2.14.1)\n",
            "Requirement already satisfied: google-auth-oauthlib<0.5,>=0.4.1 in /usr/local/lib/python3.7/dist-packages (from tensorboard<2.10,>=2.9->tensorflow->wrangle) (0.4.6)\n",
            "Requirement already satisfied: cachetools<6.0,>=2.0.0 in /usr/local/lib/python3.7/dist-packages (from google-auth<3,>=1.6.3->tensorboard<2.10,>=2.9->tensorflow->wrangle) (5.2.0)\n",
            "Requirement already satisfied: rsa<5,>=3.1.4 in /usr/local/lib/python3.7/dist-packages (from google-auth<3,>=1.6.3->tensorboard<2.10,>=2.9->tensorflow->wrangle) (4.9)\n",
            "Requirement already satisfied: pyasn1-modules>=0.2.1 in /usr/local/lib/python3.7/dist-packages (from google-auth<3,>=1.6.3->tensorboard<2.10,>=2.9->tensorflow->wrangle) (0.2.8)\n",
            "Requirement already satisfied: requests-oauthlib>=0.7.0 in /usr/local/lib/python3.7/dist-packages (from google-auth-oauthlib<0.5,>=0.4.1->tensorboard<2.10,>=2.9->tensorflow->wrangle) (1.3.1)\n",
            "Requirement already satisfied: importlib-metadata>=4.4 in /usr/local/lib/python3.7/dist-packages (from markdown>=2.6.8->tensorboard<2.10,>=2.9->tensorflow->wrangle) (4.13.0)\n",
            "Requirement already satisfied: zipp>=0.5 in /usr/local/lib/python3.7/dist-packages (from importlib-metadata>=4.4->markdown>=2.6.8->tensorboard<2.10,>=2.9->tensorflow->wrangle) (3.10.0)\n",
            "Requirement already satisfied: pyasn1<0.5.0,>=0.4.6 in /usr/local/lib/python3.7/dist-packages (from pyasn1-modules>=0.2.1->google-auth<3,>=1.6.3->tensorboard<2.10,>=2.9->tensorflow->wrangle) (0.4.8)\n",
            "Requirement already satisfied: chardet<4,>=3.0.2 in /usr/local/lib/python3.7/dist-packages (from requests<3,>=2.21.0->tensorboard<2.10,>=2.9->tensorflow->wrangle) (3.0.4)\n",
            "Requirement already satisfied: idna<3,>=2.5 in /usr/local/lib/python3.7/dist-packages (from requests<3,>=2.21.0->tensorboard<2.10,>=2.9->tensorflow->wrangle) (2.10)\n",
            "Requirement already satisfied: urllib3!=1.25.0,!=1.25.1,<1.26,>=1.21.1 in /usr/local/lib/python3.7/dist-packages (from requests<3,>=2.21.0->tensorboard<2.10,>=2.9->tensorflow->wrangle) (1.24.3)\n",
            "Requirement already satisfied: certifi>=2017.4.17 in /usr/local/lib/python3.7/dist-packages (from requests<3,>=2.21.0->tensorboard<2.10,>=2.9->tensorflow->wrangle) (2022.9.24)\n",
            "Requirement already satisfied: oauthlib>=3.0.0 in /usr/local/lib/python3.7/dist-packages (from requests-oauthlib>=0.7.0->google-auth-oauthlib<0.5,>=0.4.1->tensorboard<2.10,>=2.9->tensorflow->wrangle) (3.2.2)\n",
            "Requirement already satisfied: pyparsing!=3.0.5,>=2.0.2 in /usr/local/lib/python3.7/dist-packages (from packaging->tensorflow->wrangle) (3.0.9)\n",
            "Building wheels for collected packages: sklearn\n",
            "  Building wheel for sklearn (setup.py) ... \u001b[?25l\u001b[?25hdone\n",
            "  Created wheel for sklearn: filename=sklearn-0.0.post1-py3-none-any.whl size=2344 sha256=ea317ac01f28c5efa4bb709532d3d69a835cc7d4043e5ee06bf1235f2109f806\n",
            "  Stored in directory: /root/.cache/pip/wheels/42/56/cc/4a8bf86613aafd5b7f1b310477667c1fca5c51c3ae4124a003\n",
            "Successfully built sklearn\n",
            "Installing collected packages: sklearn, wrangle\n",
            "Successfully installed sklearn-0.0.post1 wrangle-0.7.2\n"
          ]
        }
      ]
    },
    {
      "cell_type": "code",
      "execution_count": 32,
      "metadata": {
        "id": "BMFZZakJWmhd"
      },
      "outputs": [],
      "source": [
        "import os\n",
        "import pandas as pd\n",
        "import wrangle as wr\n",
        "from numpy import nan\n",
        "\n",
        "from keras.utils import to_categorical\n",
        "from keras.activations import *\n",
        "from keras.wrappers.scikit_learn import KerasClassifier\n",
        "from keras.models import Sequential\n",
        "from keras.layers import Dense, Dropout, Flatten\n",
        "\n",
        "from sklearn.model_selection import GridSearchCV\n",
        "from sklearn.model_selection import RandomizedSearchCV\n",
        "from sklearn.preprocessing import StandardScaler\n"
      ]
    },
    {
      "cell_type": "code",
      "execution_count": 147,
      "metadata": {
        "colab": {
          "base_uri": "https://localhost:8080/",
          "height": 317
        },
        "id": "nrLjc-4DbOPD",
        "outputId": "2cc5b991-a90b-45ce-be3e-af6d11c328e3"
      },
      "outputs": [
        {
          "output_type": "execute_result",
          "data": {
            "text/plain": [
              "         id diagnosis  radius_mean  texture_mean  perimeter_mean  area_mean  \\\n",
              "0    842302         M        17.99         10.38          122.80     1001.0   \n",
              "1    842517         M        20.57         17.77          132.90     1326.0   \n",
              "2  84300903         M        19.69         21.25          130.00     1203.0   \n",
              "3  84348301         M        11.42         20.38           77.58      386.1   \n",
              "4  84358402         M        20.29         14.34          135.10     1297.0   \n",
              "\n",
              "   smoothness_mean  compactness_mean  concavity_mean  concave points_mean  \\\n",
              "0          0.11840           0.27760          0.3001              0.14710   \n",
              "1          0.08474           0.07864          0.0869              0.07017   \n",
              "2          0.10960           0.15990          0.1974              0.12790   \n",
              "3          0.14250           0.28390          0.2414              0.10520   \n",
              "4          0.10030           0.13280          0.1980              0.10430   \n",
              "\n",
              "   ...  texture_worst  perimeter_worst  area_worst  smoothness_worst  \\\n",
              "0  ...          17.33           184.60      2019.0            0.1622   \n",
              "1  ...          23.41           158.80      1956.0            0.1238   \n",
              "2  ...          25.53           152.50      1709.0            0.1444   \n",
              "3  ...          26.50            98.87       567.7            0.2098   \n",
              "4  ...          16.67           152.20      1575.0            0.1374   \n",
              "\n",
              "   compactness_worst  concavity_worst  concave points_worst  symmetry_worst  \\\n",
              "0             0.6656           0.7119                0.2654          0.4601   \n",
              "1             0.1866           0.2416                0.1860          0.2750   \n",
              "2             0.4245           0.4504                0.2430          0.3613   \n",
              "3             0.8663           0.6869                0.2575          0.6638   \n",
              "4             0.2050           0.4000                0.1625          0.2364   \n",
              "\n",
              "   fractal_dimension_worst  Unnamed: 32  \n",
              "0                  0.11890          NaN  \n",
              "1                  0.08902          NaN  \n",
              "2                  0.08758          NaN  \n",
              "3                  0.17300          NaN  \n",
              "4                  0.07678          NaN  \n",
              "\n",
              "[5 rows x 33 columns]"
            ],
            "text/html": [
              "\n",
              "  <div id=\"df-670127ff-0c3d-4b41-97c7-237d4c299786\">\n",
              "    <div class=\"colab-df-container\">\n",
              "      <div>\n",
              "<style scoped>\n",
              "    .dataframe tbody tr th:only-of-type {\n",
              "        vertical-align: middle;\n",
              "    }\n",
              "\n",
              "    .dataframe tbody tr th {\n",
              "        vertical-align: top;\n",
              "    }\n",
              "\n",
              "    .dataframe thead th {\n",
              "        text-align: right;\n",
              "    }\n",
              "</style>\n",
              "<table border=\"1\" class=\"dataframe\">\n",
              "  <thead>\n",
              "    <tr style=\"text-align: right;\">\n",
              "      <th></th>\n",
              "      <th>id</th>\n",
              "      <th>diagnosis</th>\n",
              "      <th>radius_mean</th>\n",
              "      <th>texture_mean</th>\n",
              "      <th>perimeter_mean</th>\n",
              "      <th>area_mean</th>\n",
              "      <th>smoothness_mean</th>\n",
              "      <th>compactness_mean</th>\n",
              "      <th>concavity_mean</th>\n",
              "      <th>concave points_mean</th>\n",
              "      <th>...</th>\n",
              "      <th>texture_worst</th>\n",
              "      <th>perimeter_worst</th>\n",
              "      <th>area_worst</th>\n",
              "      <th>smoothness_worst</th>\n",
              "      <th>compactness_worst</th>\n",
              "      <th>concavity_worst</th>\n",
              "      <th>concave points_worst</th>\n",
              "      <th>symmetry_worst</th>\n",
              "      <th>fractal_dimension_worst</th>\n",
              "      <th>Unnamed: 32</th>\n",
              "    </tr>\n",
              "  </thead>\n",
              "  <tbody>\n",
              "    <tr>\n",
              "      <th>0</th>\n",
              "      <td>842302</td>\n",
              "      <td>M</td>\n",
              "      <td>17.99</td>\n",
              "      <td>10.38</td>\n",
              "      <td>122.80</td>\n",
              "      <td>1001.0</td>\n",
              "      <td>0.11840</td>\n",
              "      <td>0.27760</td>\n",
              "      <td>0.3001</td>\n",
              "      <td>0.14710</td>\n",
              "      <td>...</td>\n",
              "      <td>17.33</td>\n",
              "      <td>184.60</td>\n",
              "      <td>2019.0</td>\n",
              "      <td>0.1622</td>\n",
              "      <td>0.6656</td>\n",
              "      <td>0.7119</td>\n",
              "      <td>0.2654</td>\n",
              "      <td>0.4601</td>\n",
              "      <td>0.11890</td>\n",
              "      <td>NaN</td>\n",
              "    </tr>\n",
              "    <tr>\n",
              "      <th>1</th>\n",
              "      <td>842517</td>\n",
              "      <td>M</td>\n",
              "      <td>20.57</td>\n",
              "      <td>17.77</td>\n",
              "      <td>132.90</td>\n",
              "      <td>1326.0</td>\n",
              "      <td>0.08474</td>\n",
              "      <td>0.07864</td>\n",
              "      <td>0.0869</td>\n",
              "      <td>0.07017</td>\n",
              "      <td>...</td>\n",
              "      <td>23.41</td>\n",
              "      <td>158.80</td>\n",
              "      <td>1956.0</td>\n",
              "      <td>0.1238</td>\n",
              "      <td>0.1866</td>\n",
              "      <td>0.2416</td>\n",
              "      <td>0.1860</td>\n",
              "      <td>0.2750</td>\n",
              "      <td>0.08902</td>\n",
              "      <td>NaN</td>\n",
              "    </tr>\n",
              "    <tr>\n",
              "      <th>2</th>\n",
              "      <td>84300903</td>\n",
              "      <td>M</td>\n",
              "      <td>19.69</td>\n",
              "      <td>21.25</td>\n",
              "      <td>130.00</td>\n",
              "      <td>1203.0</td>\n",
              "      <td>0.10960</td>\n",
              "      <td>0.15990</td>\n",
              "      <td>0.1974</td>\n",
              "      <td>0.12790</td>\n",
              "      <td>...</td>\n",
              "      <td>25.53</td>\n",
              "      <td>152.50</td>\n",
              "      <td>1709.0</td>\n",
              "      <td>0.1444</td>\n",
              "      <td>0.4245</td>\n",
              "      <td>0.4504</td>\n",
              "      <td>0.2430</td>\n",
              "      <td>0.3613</td>\n",
              "      <td>0.08758</td>\n",
              "      <td>NaN</td>\n",
              "    </tr>\n",
              "    <tr>\n",
              "      <th>3</th>\n",
              "      <td>84348301</td>\n",
              "      <td>M</td>\n",
              "      <td>11.42</td>\n",
              "      <td>20.38</td>\n",
              "      <td>77.58</td>\n",
              "      <td>386.1</td>\n",
              "      <td>0.14250</td>\n",
              "      <td>0.28390</td>\n",
              "      <td>0.2414</td>\n",
              "      <td>0.10520</td>\n",
              "      <td>...</td>\n",
              "      <td>26.50</td>\n",
              "      <td>98.87</td>\n",
              "      <td>567.7</td>\n",
              "      <td>0.2098</td>\n",
              "      <td>0.8663</td>\n",
              "      <td>0.6869</td>\n",
              "      <td>0.2575</td>\n",
              "      <td>0.6638</td>\n",
              "      <td>0.17300</td>\n",
              "      <td>NaN</td>\n",
              "    </tr>\n",
              "    <tr>\n",
              "      <th>4</th>\n",
              "      <td>84358402</td>\n",
              "      <td>M</td>\n",
              "      <td>20.29</td>\n",
              "      <td>14.34</td>\n",
              "      <td>135.10</td>\n",
              "      <td>1297.0</td>\n",
              "      <td>0.10030</td>\n",
              "      <td>0.13280</td>\n",
              "      <td>0.1980</td>\n",
              "      <td>0.10430</td>\n",
              "      <td>...</td>\n",
              "      <td>16.67</td>\n",
              "      <td>152.20</td>\n",
              "      <td>1575.0</td>\n",
              "      <td>0.1374</td>\n",
              "      <td>0.2050</td>\n",
              "      <td>0.4000</td>\n",
              "      <td>0.1625</td>\n",
              "      <td>0.2364</td>\n",
              "      <td>0.07678</td>\n",
              "      <td>NaN</td>\n",
              "    </tr>\n",
              "  </tbody>\n",
              "</table>\n",
              "<p>5 rows × 33 columns</p>\n",
              "</div>\n",
              "      <button class=\"colab-df-convert\" onclick=\"convertToInteractive('df-670127ff-0c3d-4b41-97c7-237d4c299786')\"\n",
              "              title=\"Convert this dataframe to an interactive table.\"\n",
              "              style=\"display:none;\">\n",
              "        \n",
              "  <svg xmlns=\"http://www.w3.org/2000/svg\" height=\"24px\"viewBox=\"0 0 24 24\"\n",
              "       width=\"24px\">\n",
              "    <path d=\"M0 0h24v24H0V0z\" fill=\"none\"/>\n",
              "    <path d=\"M18.56 5.44l.94 2.06.94-2.06 2.06-.94-2.06-.94-.94-2.06-.94 2.06-2.06.94zm-11 1L8.5 8.5l.94-2.06 2.06-.94-2.06-.94L8.5 2.5l-.94 2.06-2.06.94zm10 10l.94 2.06.94-2.06 2.06-.94-2.06-.94-.94-2.06-.94 2.06-2.06.94z\"/><path d=\"M17.41 7.96l-1.37-1.37c-.4-.4-.92-.59-1.43-.59-.52 0-1.04.2-1.43.59L10.3 9.45l-7.72 7.72c-.78.78-.78 2.05 0 2.83L4 21.41c.39.39.9.59 1.41.59.51 0 1.02-.2 1.41-.59l7.78-7.78 2.81-2.81c.8-.78.8-2.07 0-2.86zM5.41 20L4 18.59l7.72-7.72 1.47 1.35L5.41 20z\"/>\n",
              "  </svg>\n",
              "      </button>\n",
              "      \n",
              "  <style>\n",
              "    .colab-df-container {\n",
              "      display:flex;\n",
              "      flex-wrap:wrap;\n",
              "      gap: 12px;\n",
              "    }\n",
              "\n",
              "    .colab-df-convert {\n",
              "      background-color: #E8F0FE;\n",
              "      border: none;\n",
              "      border-radius: 50%;\n",
              "      cursor: pointer;\n",
              "      display: none;\n",
              "      fill: #1967D2;\n",
              "      height: 32px;\n",
              "      padding: 0 0 0 0;\n",
              "      width: 32px;\n",
              "    }\n",
              "\n",
              "    .colab-df-convert:hover {\n",
              "      background-color: #E2EBFA;\n",
              "      box-shadow: 0px 1px 2px rgba(60, 64, 67, 0.3), 0px 1px 3px 1px rgba(60, 64, 67, 0.15);\n",
              "      fill: #174EA6;\n",
              "    }\n",
              "\n",
              "    [theme=dark] .colab-df-convert {\n",
              "      background-color: #3B4455;\n",
              "      fill: #D2E3FC;\n",
              "    }\n",
              "\n",
              "    [theme=dark] .colab-df-convert:hover {\n",
              "      background-color: #434B5C;\n",
              "      box-shadow: 0px 1px 3px 1px rgba(0, 0, 0, 0.15);\n",
              "      filter: drop-shadow(0px 1px 2px rgba(0, 0, 0, 0.3));\n",
              "      fill: #FFFFFF;\n",
              "    }\n",
              "  </style>\n",
              "\n",
              "      <script>\n",
              "        const buttonEl =\n",
              "          document.querySelector('#df-670127ff-0c3d-4b41-97c7-237d4c299786 button.colab-df-convert');\n",
              "        buttonEl.style.display =\n",
              "          google.colab.kernel.accessAllowed ? 'block' : 'none';\n",
              "\n",
              "        async function convertToInteractive(key) {\n",
              "          const element = document.querySelector('#df-670127ff-0c3d-4b41-97c7-237d4c299786');\n",
              "          const dataTable =\n",
              "            await google.colab.kernel.invokeFunction('convertToInteractive',\n",
              "                                                     [key], {});\n",
              "          if (!dataTable) return;\n",
              "\n",
              "          const docLinkHtml = 'Like what you see? Visit the ' +\n",
              "            '<a target=\"_blank\" href=https://colab.research.google.com/notebooks/data_table.ipynb>data table notebook</a>'\n",
              "            + ' to learn more about interactive tables.';\n",
              "          element.innerHTML = '';\n",
              "          dataTable['output_type'] = 'display_data';\n",
              "          await google.colab.output.renderOutput(dataTable, element);\n",
              "          const docLink = document.createElement('div');\n",
              "          docLink.innerHTML = docLinkHtml;\n",
              "          element.appendChild(docLink);\n",
              "        }\n",
              "      </script>\n",
              "    </div>\n",
              "  </div>\n",
              "  "
            ]
          },
          "metadata": {},
          "execution_count": 147
        }
      ],
      "source": [
        "#Read the dataset with pandas\n",
        "df = pd.read_csv(\"/content/data.csv\")\n",
        "df.head()"
      ]
    },
    {
      "cell_type": "markdown",
      "metadata": {
        "id": "DWpU6bYHJw_m"
      },
      "source": [
        "### 2.Basic Data Cleaning\n",
        "\n",
        "\n",
        "1.   Drop the Unnamed:32` and `id` columns\n",
        "2.   Consider `diagnosis` column as the labels(y) while the rest of the columns as features (X) \n",
        "\n",
        "**Note:**\n",
        "\n",
        "Convert the labels in terms of 0 and 1 where 1 corresponds to M and 0 Corresponds to 0\n",
        "\n"
      ]
    },
    {
      "cell_type": "code",
      "execution_count": 148,
      "metadata": {
        "id": "a4B9DsEPXlym"
      },
      "outputs": [],
      "source": [
        "def breast_cancer(df):\n",
        "    '''Load and preprocess(cleaning) the dataset\n",
        "    Input: Dataframe\n",
        "    Output: x,y\n",
        "    x:Features\n",
        "    y:Labels in form of 0 and 1\n",
        "    '''\n",
        "    x = df.drop([\"Unnamed: 32\", \"id\", \"diagnosis\"], axis = 1)\n",
        "    y = df[\"diagnosis\"].map({\"M\":1, \"B\": 0})\n",
        "\n",
        "    return x, y"
      ]
    },
    {
      "cell_type": "code",
      "execution_count": 149,
      "metadata": {
        "id": "zJtSMau5gIHG"
      },
      "outputs": [],
      "source": [
        "#Call the Datacleaning Function\n",
        "x, y = breast_cancer(df)\n",
        "# Normalize every feature in x to mean 0, std 1 with wrangle rescale_meanzero function\n",
        "scaler = StandardScaler()\n",
        "x = scaler.fit_transform(x)\n",
        "\n",
        "#Initialise the input feature dimension\n",
        "input_dim = x.shape[1]"
      ]
    },
    {
      "cell_type": "code",
      "source": [
        "x.shape\n"
      ],
      "metadata": {
        "colab": {
          "base_uri": "https://localhost:8080/"
        },
        "id": "a5LaR3wwfTbS",
        "outputId": "4b7881a1-1f5c-4ded-e3f2-560efc4e9c8c"
      },
      "execution_count": 150,
      "outputs": [
        {
          "output_type": "execute_result",
          "data": {
            "text/plain": [
              "(569, 30)"
            ]
          },
          "metadata": {},
          "execution_count": 150
        }
      ]
    },
    {
      "cell_type": "markdown",
      "metadata": {
        "id": "2U_hnZ6lLYZp"
      },
      "source": [
        "### 3.Decide on the Parameters to be tuned and create the model\n",
        "We will be creating a 2-layer Neural Network.\n",
        "\n",
        "In this example we will be tuning only the model parameters while the hyperparameters can be tuned in later exercise.\n",
        "\n",
        "\n",
        "**Model Parameters to be tuned**\n",
        "1. `first_neurons`:Number of neurons in the First layer\n",
        "2. `activation`: Activation function to be used in First layer.\n",
        "3. `kernel_initializer`:Initializer in both the layers\n",
        "4. `optimizer`:Optimizer to be used when compiling the model.\n",
        "\n",
        "\n",
        " \n",
        " **Hyper Parameters**\n",
        " 1. `epochs`\n",
        " 2. `batch_size`\n",
        " 3. `dropout_rate`\n",
        "\n",
        " \n",
        "----------------------------------------------------------------\n",
        "**Create the array of values for each  parameters**\n",
        "1. first_neurons with values 8,9\n",
        "2. activation with values relu and tanh\n",
        "3. kernel_initializer with values uniform,he_uniform\n",
        "4. optimizer with values Adam and SGD\n",
        "\n",
        "\n",
        "\n",
        "**Note: Make sure to initialize the values in the same order**"
      ]
    },
    {
      "cell_type": "code",
      "execution_count": 151,
      "metadata": {
        "id": "7bGHtidzQ4nQ"
      },
      "outputs": [],
      "source": [
        "# Model Design Components\n",
        "first_neurons = [8, 9]\n",
        "activation = [tf.keras.activations.relu, tf.keras.activations.tanh] \n",
        "kernel_initializer = [tf.keras.initializers.he_uniform, tf.keras.initializers.random_uniform]\n",
        "optimizer = [\"Adam\", \"SGD\"]\n",
        "\n",
        "\n",
        "# Hyperparameters\n",
        "epochs = [10]\n",
        "batch_size = [1024]\n",
        "dropout_rate = [0.0]"
      ]
    },
    {
      "cell_type": "markdown",
      "metadata": {
        "id": "A6UehbH4RDSj"
      },
      "source": [
        "### 4.Creating Model"
      ]
    },
    {
      "cell_type": "code",
      "execution_count": 152,
      "metadata": {
        "id": "46NofludXrnj"
      },
      "outputs": [],
      "source": [
        "\n",
        "\n",
        "# Function to create model, required for KerasClassifier\n",
        "def create_model(first_neuron=9,activation='relu',\n",
        "                 kernel_initializer= tf.keras.initializers.he_uniform,\n",
        "                 dropout_rate=0,optimizer='Adam'):\n",
        "  \n",
        "\n",
        "    '''\n",
        "\n",
        "    Input: Model params and Hyper Params to be tuned\n",
        "    Output: Compiled model\n",
        "\n",
        "    '''\n",
        "    \n",
        "    #1.Create sequential model\n",
        "\n",
        "    model = Sequential()\n",
        "\n",
        "    #2. Add the First Dense layer with params \n",
        "    #first_neuron,input_dim,kernel_initailizer,activation assigned values from actual function parameters\n",
        "    \n",
        "    model.add(Dense(units = input_dim,\n",
        "                    kernel_initializer = kernel_initializer,\n",
        "                    activation = activation))\n",
        "    \n",
        "\n",
        "    #3. Add dropout to the with the value from actual function parameter dropout_rate\n",
        "\n",
        "    model.add(Dropout(rate = dropout_rate))\n",
        "\n",
        "\n",
        "    #4. Add the Second Dense layer with params\n",
        "    #Number of neurons =1\n",
        "    #Kernel_initializer from function parameter\n",
        "    #activation=sigmoid\n",
        "\n",
        "\n",
        "    model.add(Dense(1, \n",
        "                    kernel_initializer = kernel_initializer,\n",
        "                    activation = \"sigmoid\"))\n",
        "\n",
        "\n",
        "    #5.Compile model with\n",
        "    # loss='binary_crossentropy'\n",
        "    # optimizer from function parameter\n",
        "    # metrics=accuracy\n",
        "\n",
        "    model.compile(loss='binary_crossentropy',\n",
        "    optimizer = optimizer, \n",
        "    metrics=[\"accuracy\"])\n",
        "    \n",
        "\n",
        "    return model"
      ]
    },
    {
      "cell_type": "markdown",
      "metadata": {
        "id": "JfjGQ9XITo6e"
      },
      "source": [
        "### 5. Create a Keras Classifier"
      ]
    },
    {
      "cell_type": "code",
      "execution_count": 153,
      "metadata": {
        "colab": {
          "base_uri": "https://localhost:8080/"
        },
        "id": "MglpjOdJXtkg",
        "outputId": "0e1fd1f2-df42-4c23-8c19-2d858a94a446"
      },
      "outputs": [
        {
          "output_type": "stream",
          "name": "stderr",
          "text": [
            "/usr/local/lib/python3.7/dist-packages/ipykernel_launcher.py:1: DeprecationWarning: KerasClassifier is deprecated, use Sci-Keras (https://github.com/adriangb/scikeras) instead. See https://www.adriangb.com/scikeras/stable/migration.html for help migrating.\n",
            "  \"\"\"Entry point for launching an IPython kernel.\n"
          ]
        }
      ],
      "source": [
        "model = KerasClassifier(build_fn=create_model)\n"
      ]
    },
    {
      "cell_type": "markdown",
      "metadata": {
        "id": "xDe0e5huT6xr"
      },
      "source": [
        "### 6. Hyperparameter Tuning 1 - Grid Search\n",
        "1. Create a GridSearchCV model with parameters\n",
        "    - Estimator\n",
        "    - Param_grid\n",
        "    - n_jobs=1\n",
        "    - cv=3\n",
        "    - verbose=2\n",
        "\n",
        "2. Fit the model with x,y\n",
        "  "
      ]
    },
    {
      "cell_type": "code",
      "execution_count": 156,
      "metadata": {
        "id": "rjnaXlw6cdWe"
      },
      "outputs": [],
      "source": [
        "#parameter grid\n",
        "param_grid = dict(epochs=epochs, \n",
        "                  batch_size=batch_size, \n",
        "                  optimizer=optimizer,\n",
        "                  dropout_rate=dropout_rate,\n",
        "                  activation=activation,\n",
        "                  kernel_initializer=kernel_initializer,\n",
        "                  first_neuron=first_neurons)"
      ]
    },
    {
      "cell_type": "code",
      "source": [
        "param_grid"
      ],
      "metadata": {
        "colab": {
          "base_uri": "https://localhost:8080/"
        },
        "id": "CrwEVsA_jlgZ",
        "outputId": "3828609e-a0aa-4418-a91d-83f72f50950b"
      },
      "execution_count": 157,
      "outputs": [
        {
          "output_type": "execute_result",
          "data": {
            "text/plain": [
              "{'epochs': [10],\n",
              " 'batch_size': [1024],\n",
              " 'optimizer': ['Adam', 'SGD'],\n",
              " 'dropout_rate': [0.0],\n",
              " 'activation': [<function keras.activations.relu(x, alpha=0.0, max_value=None, threshold=0.0)>,\n",
              "  <function keras.activations.tanh(x)>],\n",
              " 'kernel_initializer': [keras.initializers.initializers_v2.HeUniform,\n",
              "  keras.initializers.initializers_v2.RandomUniform],\n",
              " 'first_neuron': [8, 9]}"
            ]
          },
          "metadata": {},
          "execution_count": 157
        }
      ]
    },
    {
      "cell_type": "code",
      "execution_count": 158,
      "metadata": {
        "colab": {
          "base_uri": "https://localhost:8080/"
        },
        "id": "GaY81GvaX0ci",
        "outputId": "58946a42-1a75-45fd-c045-ab03673cef68"
      },
      "outputs": [
        {
          "output_type": "stream",
          "name": "stdout",
          "text": [
            "Fitting 3 folds for each of 16 candidates, totalling 48 fits\n",
            "Epoch 1/10\n",
            "1/1 [==============================] - 1s 557ms/step - loss: 0.6992 - accuracy: 0.3269\n",
            "Epoch 2/10\n",
            "1/1 [==============================] - 0s 13ms/step - loss: 0.6960 - accuracy: 0.3568\n",
            "Epoch 3/10\n",
            "1/1 [==============================] - 0s 9ms/step - loss: 0.6929 - accuracy: 0.3708\n",
            "Epoch 4/10\n",
            "1/1 [==============================] - 0s 11ms/step - loss: 0.6899 - accuracy: 0.4833\n",
            "Epoch 5/10\n",
            "1/1 [==============================] - 0s 9ms/step - loss: 0.6869 - accuracy: 0.6872\n",
            "Epoch 6/10\n",
            "1/1 [==============================] - 0s 11ms/step - loss: 0.6840 - accuracy: 0.8207\n",
            "Epoch 7/10\n",
            "1/1 [==============================] - 0s 11ms/step - loss: 0.6810 - accuracy: 0.8787\n",
            "Epoch 8/10\n",
            "1/1 [==============================] - 0s 10ms/step - loss: 0.6780 - accuracy: 0.8946\n",
            "Epoch 9/10\n",
            "1/1 [==============================] - 0s 10ms/step - loss: 0.6750 - accuracy: 0.8963\n",
            "Epoch 10/10\n",
            "1/1 [==============================] - 0s 9ms/step - loss: 0.6719 - accuracy: 0.9033\n"
          ]
        }
      ],
      "source": [
        "#create GridSearchCv model\n",
        "grid = GridSearchCV(estimator = model, \n",
        "                    param_grid = param_grid, \n",
        "                    n_jobs = -1, \n",
        "                    cv = 3, \n",
        "                    verbose = 2)\n",
        "\n",
        "#Fit the model and return the result\n",
        "grid_result = grid.fit(x, y)"
      ]
    },
    {
      "cell_type": "code",
      "execution_count": 159,
      "metadata": {
        "colab": {
          "base_uri": "https://localhost:8080/"
        },
        "id": "CrAriPJKciOd",
        "outputId": "ca96ebc0-9a70-4ad9-de49-7c255f30b33d"
      },
      "outputs": [
        {
          "output_type": "stream",
          "name": "stdout",
          "text": [
            "Best: 0.933241 using {'activation': <function relu at 0x7fcba3180560>, 'batch_size': 1024, 'dropout_rate': 0.0, 'epochs': 10, 'first_neuron': 8, 'kernel_initializer': <class 'keras.initializers.initializers_v2.RandomUniform'>, 'optimizer': 'Adam'}\n",
            "0.636517 (0.171341) with: {'activation': <function relu at 0x7fcba3180560>, 'batch_size': 1024, 'dropout_rate': 0.0, 'epochs': 10, 'first_neuron': 8, 'kernel_initializer': <class 'keras.initializers.initializers_v2.HeUniform'>, 'optimizer': 'Adam'}\n",
            "0.806451 (0.098392) with: {'activation': <function relu at 0x7fcba3180560>, 'batch_size': 1024, 'dropout_rate': 0.0, 'epochs': 10, 'first_neuron': 8, 'kernel_initializer': <class 'keras.initializers.initializers_v2.HeUniform'>, 'optimizer': 'SGD'}\n",
            "0.933241 (0.027581) with: {'activation': <function relu at 0x7fcba3180560>, 'batch_size': 1024, 'dropout_rate': 0.0, 'epochs': 10, 'first_neuron': 8, 'kernel_initializer': <class 'keras.initializers.initializers_v2.RandomUniform'>, 'optimizer': 'Adam'}\n",
            "0.678678 (0.149119) with: {'activation': <function relu at 0x7fcba3180560>, 'batch_size': 1024, 'dropout_rate': 0.0, 'epochs': 10, 'first_neuron': 8, 'kernel_initializer': <class 'keras.initializers.initializers_v2.RandomUniform'>, 'optimizer': 'SGD'}\n",
            "0.734837 (0.192424) with: {'activation': <function relu at 0x7fcba3180560>, 'batch_size': 1024, 'dropout_rate': 0.0, 'epochs': 10, 'first_neuron': 9, 'kernel_initializer': <class 'keras.initializers.initializers_v2.HeUniform'>, 'optimizer': 'Adam'}\n",
            "0.646876 (0.055717) with: {'activation': <function relu at 0x7fcba3180560>, 'batch_size': 1024, 'dropout_rate': 0.0, 'epochs': 10, 'first_neuron': 9, 'kernel_initializer': <class 'keras.initializers.initializers_v2.HeUniform'>, 'optimizer': 'SGD'}\n",
            "0.913924 (0.035970) with: {'activation': <function relu at 0x7fcba3180560>, 'batch_size': 1024, 'dropout_rate': 0.0, 'epochs': 10, 'first_neuron': 9, 'kernel_initializer': <class 'keras.initializers.initializers_v2.RandomUniform'>, 'optimizer': 'Adam'}\n",
            "0.648724 (0.112634) with: {'activation': <function relu at 0x7fcba3180560>, 'batch_size': 1024, 'dropout_rate': 0.0, 'epochs': 10, 'first_neuron': 9, 'kernel_initializer': <class 'keras.initializers.initializers_v2.RandomUniform'>, 'optimizer': 'SGD'}\n",
            "0.801067 (0.137018) with: {'activation': <function tanh at 0x7fcba31808c0>, 'batch_size': 1024, 'dropout_rate': 0.0, 'epochs': 10, 'first_neuron': 8, 'kernel_initializer': <class 'keras.initializers.initializers_v2.HeUniform'>, 'optimizer': 'Adam'}\n",
            "0.671484 (0.145268) with: {'activation': <function tanh at 0x7fcba31808c0>, 'batch_size': 1024, 'dropout_rate': 0.0, 'epochs': 10, 'first_neuron': 8, 'kernel_initializer': <class 'keras.initializers.initializers_v2.HeUniform'>, 'optimizer': 'SGD'}\n",
            "0.927977 (0.038947) with: {'activation': <function tanh at 0x7fcba31808c0>, 'batch_size': 1024, 'dropout_rate': 0.0, 'epochs': 10, 'first_neuron': 8, 'kernel_initializer': <class 'keras.initializers.initializers_v2.RandomUniform'>, 'optimizer': 'Adam'}\n",
            "0.789195 (0.134076) with: {'activation': <function tanh at 0x7fcba31808c0>, 'batch_size': 1024, 'dropout_rate': 0.0, 'epochs': 10, 'first_neuron': 8, 'kernel_initializer': <class 'keras.initializers.initializers_v2.RandomUniform'>, 'optimizer': 'SGD'}\n",
            "0.778251 (0.134950) with: {'activation': <function tanh at 0x7fcba31808c0>, 'batch_size': 1024, 'dropout_rate': 0.0, 'epochs': 10, 'first_neuron': 9, 'kernel_initializer': <class 'keras.initializers.initializers_v2.HeUniform'>, 'optimizer': 'Adam'}\n",
            "0.755518 (0.101029) with: {'activation': <function tanh at 0x7fcba31808c0>, 'batch_size': 1024, 'dropout_rate': 0.0, 'epochs': 10, 'first_neuron': 9, 'kernel_initializer': <class 'keras.initializers.initializers_v2.HeUniform'>, 'optimizer': 'SGD'}\n",
            "0.927987 (0.024352) with: {'activation': <function tanh at 0x7fcba31808c0>, 'batch_size': 1024, 'dropout_rate': 0.0, 'epochs': 10, 'first_neuron': 9, 'kernel_initializer': <class 'keras.initializers.initializers_v2.RandomUniform'>, 'optimizer': 'Adam'}\n",
            "0.794514 (0.107786) with: {'activation': <function tanh at 0x7fcba31808c0>, 'batch_size': 1024, 'dropout_rate': 0.0, 'epochs': 10, 'first_neuron': 9, 'kernel_initializer': <class 'keras.initializers.initializers_v2.RandomUniform'>, 'optimizer': 'SGD'}\n"
          ]
        }
      ],
      "source": [
        "#Print the Best Params\n",
        "print(\"Best: %f using %s\" % (grid_result.best_score_, grid_result.best_params_))\n",
        "\n",
        "#Explore the others\n",
        "means = grid_result.cv_results_['mean_test_score']\n",
        "stds = grid_result.cv_results_['std_test_score']\n",
        "params = grid_result.cv_results_['params']\n",
        "for mean, stdev, param in zip(means, stds, params):\n",
        "    print(\"%f (%f) with: %r\" % (mean, stdev, param))"
      ]
    },
    {
      "cell_type": "markdown",
      "metadata": {
        "id": "FrZydqI-ZByc"
      },
      "source": [
        "### 7. Hyperparameter Tuning 1 - Randomized Search\n",
        "1. Create a RandomizedSearchCV model with parameters\n",
        "    - Estimator as model\n",
        "    - param_dist\n",
        "    - n_iter=8\n",
        "    - n_jobs=1\n",
        "    - cv=3\n",
        "    - verbose=2\n",
        "\n",
        "2. Fit the model with x,y\n",
        "  "
      ]
    },
    {
      "cell_type": "code",
      "execution_count": 160,
      "metadata": {
        "id": "lSSMsmSldKRM"
      },
      "outputs": [],
      "source": [
        "param_dist = dict(epochs=epochs, \n",
        "                  batch_size=batch_size, \n",
        "                  optimizer=optimizer,\n",
        "                  dropout_rate=dropout_rate,\n",
        "                  activation=activation,\n",
        "                  kernel_initializer=kernel_initializer,\n",
        "                  first_neuron=first_neurons)"
      ]
    },
    {
      "cell_type": "code",
      "execution_count": 161,
      "metadata": {
        "colab": {
          "base_uri": "https://localhost:8080/"
        },
        "id": "bM5xV2rGcr-s",
        "outputId": "61a611ad-0738-47ea-f21c-73754e796793"
      },
      "outputs": [
        {
          "output_type": "stream",
          "name": "stdout",
          "text": [
            "Fitting 3 folds for each of 10 candidates, totalling 30 fits\n",
            "Epoch 1/10\n",
            "1/1 [==============================] - 1s 548ms/step - loss: 0.6952 - accuracy: 0.3743\n",
            "Epoch 2/10\n",
            "1/1 [==============================] - 0s 12ms/step - loss: 0.6880 - accuracy: 0.7487\n",
            "Epoch 3/10\n",
            "1/1 [==============================] - 0s 14ms/step - loss: 0.6809 - accuracy: 0.8699\n",
            "Epoch 4/10\n",
            "1/1 [==============================] - 0s 10ms/step - loss: 0.6739 - accuracy: 0.9086\n",
            "Epoch 5/10\n",
            "1/1 [==============================] - 0s 11ms/step - loss: 0.6668 - accuracy: 0.9139\n",
            "Epoch 6/10\n",
            "1/1 [==============================] - 0s 9ms/step - loss: 0.6597 - accuracy: 0.9156\n",
            "Epoch 7/10\n",
            "1/1 [==============================] - 0s 8ms/step - loss: 0.6526 - accuracy: 0.9192\n",
            "Epoch 8/10\n",
            "1/1 [==============================] - 0s 9ms/step - loss: 0.6454 - accuracy: 0.9244\n",
            "Epoch 9/10\n",
            "1/1 [==============================] - 0s 8ms/step - loss: 0.6380 - accuracy: 0.9297\n",
            "Epoch 10/10\n",
            "1/1 [==============================] - 0s 8ms/step - loss: 0.6305 - accuracy: 0.9262\n"
          ]
        },
        {
          "output_type": "execute_result",
          "data": {
            "text/plain": [
              "RandomizedSearchCV(cv=3,\n",
              "                   estimator=<keras.wrappers.scikit_learn.KerasClassifier object at 0x7fcb9ac97890>,\n",
              "                   n_jobs=-1,\n",
              "                   param_distributions={'activation': [<function relu at 0x7fcba3180560>,\n",
              "                                                       <function tanh at 0x7fcba31808c0>],\n",
              "                                        'batch_size': [1024],\n",
              "                                        'dropout_rate': [0.0], 'epochs': [10],\n",
              "                                        'first_neuron': [8, 9],\n",
              "                                        'kernel_initializer': [<class 'keras.initializers.initializers_v2.HeUniform'>,\n",
              "                                                               <class 'keras.initializers.initializers_v2.RandomUniform'>],\n",
              "                                        'optimizer': ['Adam', 'SGD']},\n",
              "                   verbose=2)"
            ]
          },
          "metadata": {},
          "execution_count": 161
        }
      ],
      "source": [
        "#Create the randomsearccv model\n",
        "random_search = RandomizedSearchCV(estimator = model, \n",
        "                    param_distributions = param_dist, \n",
        "                    n_jobs = -1, \n",
        "                    cv = 3, \n",
        "                    verbose = 2)\n",
        "\n",
        "\n",
        "#Fit the model\n",
        "random_search.fit(x, y)"
      ]
    },
    {
      "cell_type": "code",
      "execution_count": 162,
      "metadata": {
        "colab": {
          "base_uri": "https://localhost:8080/"
        },
        "id": "83hz-fxIdDiW",
        "outputId": "bb3477a7-91a2-451d-a3b1-56e6653115f3"
      },
      "outputs": [
        {
          "output_type": "stream",
          "name": "stdout",
          "text": [
            "Best: 0.927968 using {'optimizer': 'Adam', 'kernel_initializer': <class 'keras.initializers.initializers_v2.RandomUniform'>, 'first_neuron': 8, 'epochs': 10, 'dropout_rate': 0.0, 'batch_size': 1024, 'activation': <function tanh at 0x7fcba31808c0>}\n",
            "0.539590 (0.219967) with: {'optimizer': 'Adam', 'kernel_initializer': <class 'keras.initializers.initializers_v2.HeUniform'>, 'first_neuron': 8, 'epochs': 10, 'dropout_rate': 0.0, 'batch_size': 1024, 'activation': <function tanh at 0x7fcba31808c0>}\n",
            "0.650135 (0.052311) with: {'optimizer': 'Adam', 'kernel_initializer': <class 'keras.initializers.initializers_v2.HeUniform'>, 'first_neuron': 8, 'epochs': 10, 'dropout_rate': 0.0, 'batch_size': 1024, 'activation': <function relu at 0x7fcba3180560>}\n",
            "0.718936 (0.121653) with: {'optimizer': 'Adam', 'kernel_initializer': <class 'keras.initializers.initializers_v2.HeUniform'>, 'first_neuron': 9, 'epochs': 10, 'dropout_rate': 0.0, 'batch_size': 1024, 'activation': <function relu at 0x7fcba3180560>}\n",
            "0.912160 (0.038934) with: {'optimizer': 'Adam', 'kernel_initializer': <class 'keras.initializers.initializers_v2.RandomUniform'>, 'first_neuron': 9, 'epochs': 10, 'dropout_rate': 0.0, 'batch_size': 1024, 'activation': <function relu at 0x7fcba3180560>}\n",
            "0.611817 (0.094746) with: {'optimizer': 'SGD', 'kernel_initializer': <class 'keras.initializers.initializers_v2.HeUniform'>, 'first_neuron': 8, 'epochs': 10, 'dropout_rate': 0.0, 'batch_size': 1024, 'activation': <function relu at 0x7fcba3180560>}\n",
            "0.697837 (0.077620) with: {'optimizer': 'SGD', 'kernel_initializer': <class 'keras.initializers.initializers_v2.RandomUniform'>, 'first_neuron': 9, 'epochs': 10, 'dropout_rate': 0.0, 'batch_size': 1024, 'activation': <function relu at 0x7fcba3180560>}\n",
            "0.747081 (0.062897) with: {'optimizer': 'SGD', 'kernel_initializer': <class 'keras.initializers.initializers_v2.RandomUniform'>, 'first_neuron': 8, 'epochs': 10, 'dropout_rate': 0.0, 'batch_size': 1024, 'activation': <function tanh at 0x7fcba31808c0>}\n",
            "0.539683 (0.079186) with: {'optimizer': 'SGD', 'kernel_initializer': <class 'keras.initializers.initializers_v2.HeUniform'>, 'first_neuron': 9, 'epochs': 10, 'dropout_rate': 0.0, 'batch_size': 1024, 'activation': <function tanh at 0x7fcba31808c0>}\n",
            "0.927968 (0.027577) with: {'optimizer': 'Adam', 'kernel_initializer': <class 'keras.initializers.initializers_v2.RandomUniform'>, 'first_neuron': 8, 'epochs': 10, 'dropout_rate': 0.0, 'batch_size': 1024, 'activation': <function tanh at 0x7fcba31808c0>}\n",
            "0.873536 (0.039227) with: {'optimizer': 'SGD', 'kernel_initializer': <class 'keras.initializers.initializers_v2.RandomUniform'>, 'first_neuron': 9, 'epochs': 10, 'dropout_rate': 0.0, 'batch_size': 1024, 'activation': <function tanh at 0x7fcba31808c0>}\n"
          ]
        }
      ],
      "source": [
        "# Print the best params \n",
        "print(\"Best: %f using %s\" % (random_search.best_score_, random_search.best_params_))\n",
        "\n",
        "\n",
        "#Explore the others\n",
        "means = random_search.cv_results_['mean_test_score']\n",
        "stds = random_search.cv_results_['std_test_score']\n",
        "params = random_search.cv_results_['params']\n",
        "for mean, stdev, param in zip(means, stds, params):\n",
        "    print(\"%f (%f) with: %r\" % (mean, stdev, param))"
      ]
    },
    {
      "cell_type": "markdown",
      "metadata": {
        "id": "I_xmiqjxj86I"
      },
      "source": [
        "### Save your answers by running the cell below"
      ]
    },
    {
      "cell_type": "code",
      "execution_count": null,
      "metadata": {
        "id": "vd6exXfkfUg9"
      },
      "outputs": [],
      "source": [
        "import pickle\n",
        "with open('grid1.pkl', 'wb') as handle:\n",
        "  pickle.dump(grid.param_grid, handle, protocol=pickle.HIGHEST_PROTOCOL)\n",
        "with open('grid2.pkl', 'wb') as handle:\n",
        "  pickle.dump(grid.n_jobs, handle, protocol=pickle.HIGHEST_PROTOCOL)\n",
        "with open('grid3.pkl', 'wb') as handle:\n",
        "  pickle.dump((grid.classes_).tolist(), handle, protocol=pickle.HIGHEST_PROTOCOL)\n",
        "\n",
        "with open('ran1.pkl', 'wb') as handle:\n",
        "  pickle.dump(random_search.param_distributions, handle, protocol=pickle.HIGHEST_PROTOCOL)\n",
        "with open('ran2.pkl', 'wb') as handle:\n",
        "  pickle.dump(random_search.n_iter, handle, protocol=pickle.HIGHEST_PROTOCOL)\n",
        "with open('ran3.pkl', 'wb') as handle:\n",
        "  pickle.dump(random_search.n_splits_, handle, protocol=pickle.HIGHEST_PROTOCOL)\n",
        "\n",
        "save_model=create_model()\n",
        "save_model.save('model.h5')"
      ]
    },
    {
      "cell_type": "markdown",
      "metadata": {
        "id": "8S2KGRuga9-7"
      },
      "source": [
        "\n",
        "Don't stop! your learning ! Tune more to explore more.\n",
        "\n",
        "1. Tune the activations with other values like 'sigmoid','hard_sigmoid','linear',etc.\n",
        "\n",
        "\n",
        "2. Tune the Kernel initializers with values like normal and zero\n",
        "\n",
        "\n",
        "3. Tune the Optimizers with RMSprop, Adamax etc\n",
        "\n"
      ]
    }
  ],
  "metadata": {
    "colab": {
      "provenance": []
    },
    "kernelspec": {
      "display_name": "Python 3",
      "language": "python",
      "name": "python3"
    },
    "language_info": {
      "codemirror_mode": {
        "name": "ipython",
        "version": 3
      },
      "file_extension": ".py",
      "mimetype": "text/x-python",
      "name": "python",
      "nbconvert_exporter": "python",
      "pygments_lexer": "ipython3",
      "version": "3.5.2"
    }
  },
  "nbformat": 4,
  "nbformat_minor": 0
}