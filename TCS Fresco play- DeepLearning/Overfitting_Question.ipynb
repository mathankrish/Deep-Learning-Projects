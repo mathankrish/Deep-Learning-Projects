{
 "cells": [
  {
   "cell_type": "markdown",
   "metadata": {},
   "source": [
    "## **Overfitting using Tensorflow Keras**\n",
    "In this scenario of hackerrank, you will be exploring about the **Overfitting** and how to overcome it.  \n",
    "\n",
    "We will look at five scenarios here\n",
    "1. With Overfitting, \n",
    "2. Overcoming Overfitting with Weight Constraints\n",
    "3. Overcoming Overfittting with Early Stopping\n",
    "4. Overcoming Overfitting with Dropouts\n",
    "5. Overcoming Overfitting with Weight Decays\n",
    "\n",
    "**Note** - Finally restart and run all the cells after the completion of the challenge\n"
   ]
  },
  {
   "cell_type": "markdown",
   "metadata": {},
   "source": [
    "### Run the below cell to import the neccessary packages"
   ]
  },
  {
   "cell_type": "code",
   "execution_count": 1,
   "metadata": {},
   "outputs": [
    {
     "name": "stderr",
     "output_type": "stream",
     "text": [
      "Using TensorFlow backend.\n"
     ]
    }
   ],
   "source": [
    "from keras import backend as K\n",
    "import numpy as np\n",
    "import random as rn\n",
    "import tensorflow as tf\n",
    "import os\n",
    "from sklearn.datasets import make_moons\n",
    "from keras.models import Sequential\n",
    "from keras.layers import Dense\n",
    "from keras.layers import Dropout\n",
    "from keras.constraints import unit_norm\n",
    "from matplotlib import pyplot\n",
    "from keras.utils import to_categorical\n",
    "from keras.regularizers import l2\n",
    "import pandas as pd\n",
    "import matplotlib.pyplot as plt\n",
    "import seaborn as sns\n",
    "import json\n",
    "from keras.callbacks import EarlyStopping"
   ]
  },
  {
   "cell_type": "markdown",
   "metadata": {},
   "source": [
    "### Run the below cells so as to get the reproducibility of the results"
   ]
  },
  {
   "cell_type": "code",
   "execution_count": 2,
   "metadata": {},
   "outputs": [],
   "source": [
    "os.environ[\"CUDA_DEVICE_ORDER\"] = \"PCI_BUS_ID\"\n",
    "os.environ[\"CUDA_VISIBLE_DEVICES\"] = \"\""
   ]
  },
  {
   "cell_type": "code",
   "execution_count": 3,
   "metadata": {},
   "outputs": [],
   "source": [
    "sd = 1 \n",
    "np.random.seed(sd)\n",
    "rn.seed(sd)\n",
    "os.environ['PYTHONHASHSEED']=str(sd)\n",
    "\n",
    "config = tf.ConfigProto(intra_op_parallelism_threads=1,inter_op_parallelism_threads=1)\n",
    "tf.set_random_seed(sd)\n",
    "sess = tf.Session(graph=tf.get_default_graph(), config=config)\n",
    "K.set_session(sess)"
   ]
  },
  {
   "cell_type": "markdown",
   "metadata": {},
   "source": [
    "### Load the dataset \n",
    " - Load the make moons dataset using make_moons function with following parameters -\n",
    "                  \n",
    "                -n_samples as 100\n",
    "                -noise as 0.2\n",
    "                -random_state as sd"
   ]
  },
  {
   "cell_type": "code",
   "execution_count": 4,
   "metadata": {},
   "outputs": [],
   "source": [
    "X, y = make_moons(n_samples = 100, noise = 0.2, random_state = sd)\n"
   ]
  },
  {
   "cell_type": "markdown",
   "metadata": {},
   "source": [
    "### Split the Dataset\n",
    "- Split the data by keeping first 30 data from the dataset as train dataset and remaining as tests dataset \n",
    "\n",
    "              -Assign n_train as 30 and split dataset as mentioned above and save it in variables trainX,testX,trainy and                     testy respectively"
   ]
  },
  {
   "cell_type": "code",
   "execution_count": 5,
   "metadata": {},
   "outputs": [],
   "source": [
    "n_train = 30 \n",
    "trainX, testX = X[:n_train, :], X[n_train:, :]\n",
    "trainy, testy = y[:n_train], y[n_train:]"
   ]
  },
  {
   "cell_type": "markdown",
   "metadata": {},
   "source": [
    "---------------------------------------------------------------------------\n",
    "## **1.With OverFitting**\n",
    "-------------------------------------------------------------------\n",
    "\n",
    "### Create Model\n",
    "\n",
    "Construct a fully-connected network structure defined using dense class in the function model\n",
    "- Create a sequential model\n",
    "- The model expects rows of data with 2 variables (the input_dim=2 argument)\n",
    "- The hidden layer has 500 nodes and uses the relu activation function.\n",
    "- The output layer has 1 node and uses the sigmoid activation function.\n",
    "- While comipling the model pass the following parameters -\n",
    "                    \n",
    "           -optimizer as adam\n",
    "           -loss as binary cross entropy \n",
    "           -metrics as accuracy"
   ]
  },
  {
   "cell_type": "code",
   "execution_count": 6,
   "metadata": {},
   "outputs": [],
   "source": [
    "def model():\n",
    "    model = Sequential()\n",
    "    model.add(Dense(2, input_dim = 2))\n",
    "    model.add(Dense(500, activation = \"relu\"))\n",
    "    model.add(Dense(1, activation = \"sigmoid\"))\n",
    "    \n",
    "    model.compile(loss = \"binary_crossentropy\", \n",
    "             optimizer = \"adam\", \n",
    "             metrics = [\"accuracy\"])\n",
    "    \n",
    "    return model"
   ]
  },
  {
   "cell_type": "markdown",
   "metadata": {},
   "source": [
    "### Fit the model\n",
    "- Call the function model and save it in variable model\n",
    "- Fit the model with trainX and trainy ,validation_data as testX and testy, epochs as 4000,verboseas 0 and save it in history1"
   ]
  },
  {
   "cell_type": "code",
   "execution_count": 7,
   "metadata": {},
   "outputs": [
    {
     "name": "stdout",
     "output_type": "stream",
     "text": [
      "WARNING:tensorflow:From /home/user/.local/lib/python3.5/site-packages/tensorflow/python/ops/resource_variable_ops.py:435: colocate_with (from tensorflow.python.framework.ops) is deprecated and will be removed in a future version.\n",
      "Instructions for updating:\n",
      "Colocations handled automatically by placer.\n",
      "WARNING:tensorflow:From /home/user/.local/lib/python3.5/site-packages/tensorflow/python/ops/math_ops.py:3066: to_int32 (from tensorflow.python.ops.math_ops) is deprecated and will be removed in a future version.\n",
      "Instructions for updating:\n",
      "Use tf.cast instead.\n"
     ]
    }
   ],
   "source": [
    "model= model()\n",
    "history1 = model.fit(trainX, trainy, validation_data= (testX, testy),epochs = 4000, verbose = 0)"
   ]
  },
  {
   "cell_type": "markdown",
   "metadata": {},
   "source": [
    "### Evaluate the model\n",
    "- Evaluate the model with training data using trainX and trainy and give verbose as 0 and save it in train_acc\n",
    "\n",
    "- In the similar way evaluate the model with test data using testX and testy using verbose as 0 and save it in test_acc"
   ]
  },
  {
   "cell_type": "code",
   "execution_count": 8,
   "metadata": {},
   "outputs": [
    {
     "name": "stdout",
     "output_type": "stream",
     "text": [
      "Train: 1.00, Test: 0.93\n"
     ]
    }
   ],
   "source": [
    "_, train_acc = model.evaluate(trainX, trainy, verbose = 0)\n",
    "_, test_acc= model.evaluate(testX,testy, verbose = 0)\n",
    "print('Train: %.2f, Test: %.2f' % (train_acc, test_acc))"
   ]
  },
  {
   "cell_type": "markdown",
   "metadata": {},
   "source": [
    "### Run the below cell to look at the performance of the model"
   ]
  },
  {
   "cell_type": "code",
   "execution_count": 9,
   "metadata": {},
   "outputs": [
    {
     "data": {
      "image/png": "[encoded data removed]",
      "text/plain": [
       "<Figure size 432x288 with 1 Axes>"
      ]
     },
     "metadata": {
      "needs_background": "light"
     },
     "output_type": "display_data"
    }
   ],
   "source": [
    "pyplot.plot(history1.history['accuracy'], label='train')\n",
    "pyplot.plot(history1.history['val_accuracy'], label='test')\n",
    "pyplot.legend()\n",
    "pyplot.show()"
   ]
  },
  {
   "cell_type": "markdown",
   "metadata": {},
   "source": [
    "---------------------------------------------------------------------------\n",
    "## **2.Overcoming OverFitting with Weight Constraints**\n",
    "-------------------------------------------------------------------\n",
    "\n",
    "### Create Model\n",
    "\n",
    "Construct a fully-connected network structure defined using dense class in the function model\n",
    "- Create a sequential model\n",
    "- The model expects rows of data with 2 variables (the input_dim=2 argument)\n",
    "- The hidden layer has 500 nodes and uses the relu activation function and it has kernel_constraint as unit_norm.\n",
    "- The output layer has 1 node and uses the sigmoid activation function.\n",
    "- While comipling the model pass the following parameters -\n",
    "                    \n",
    "           -optimizer as adam\n",
    "           -loss as binary cross entropy \n",
    "           -metrics as accuracy"
   ]
  },
  {
   "cell_type": "code",
   "execution_count": 10,
   "metadata": {},
   "outputs": [],
   "source": [
    "def model1():\n",
    "    model1 = Sequential()\n",
    "    model1.add(Dense(2, input_dim = 2))\n",
    "    model1.add(Dense(500, activation = \"relu\", kernel_constraint = \"unit_norm\"))\n",
    "    model1.add(Dense(1, activation = \"sigmoid\"))\n",
    "    \n",
    "    model1.compile(loss = \"binary_crossentropy\", \n",
    "             optimizer = \"adam\", \n",
    "             metrics = [\"accuracy\"])\n",
    "    \n",
    "    \n",
    "    \n",
    "    \n",
    "    return model1"
   ]
  },
  {
   "cell_type": "markdown",
   "metadata": {},
   "source": [
    "### Fit the model\n",
    "- Call the function model1 and save it in variable model1\n",
    "- Fit the model1 with trainX and trainy ,validation_data as testX and testy, epochs as 4000,verbose as 0 and save it in history2"
   ]
  },
  {
   "cell_type": "code",
   "execution_count": 11,
   "metadata": {},
   "outputs": [],
   "source": [
    "model1= model1()\n",
    "history2 = model1.fit(trainX, trainy, validation_data= (testX, testy),epochs = 4000, verbose = 0)"
   ]
  },
  {
   "cell_type": "markdown",
   "metadata": {},
   "source": [
    "### Evaluate the model\n",
    "- Evaluate the model1 with training data using trainX and trainy and give verbose as 0 and save it in train_acc1.\n",
    "\n",
    "- In the similar way evaluate the model1 with test data using testX and testy using verbose as 0 and save it in test_acc1."
   ]
  },
  {
   "cell_type": "code",
   "execution_count": 12,
   "metadata": {},
   "outputs": [
    {
     "name": "stdout",
     "output_type": "stream",
     "text": [
      "Train: 1.00, Test: 0.94\n"
     ]
    }
   ],
   "source": [
    "_, train_acc1 = model1.evaluate(trainX, trainy, verbose = 0)\n",
    "_, test_acc1= model1.evaluate(testX,testy, verbose = 0)\n",
    "print('Train: %.2f, Test: %.2f' % (train_acc1, test_acc1))"
   ]
  },
  {
   "cell_type": "markdown",
   "metadata": {},
   "source": [
    "### Run the below cell to look at the performance of the model"
   ]
  },
  {
   "cell_type": "code",
   "execution_count": 13,
   "metadata": {
    "scrolled": true
   },
   "outputs": [
    {
     "data": {
      "image/png": "[encoded data removed]",
      "text/plain": [
       "<Figure size 432x288 with 1 Axes>"
      ]
     },
     "metadata": {
      "needs_background": "light"
     },
     "output_type": "display_data"
    }
   ],
   "source": [
    "# plot history\n",
    "pyplot.plot(history2.history['accuracy'], label='train')\n",
    "pyplot.plot(history2.history['val_accuracy'], label='test')\n",
    "pyplot.legend()\n",
    "pyplot.show()"
   ]
  },
  {
   "cell_type": "markdown",
   "metadata": {},
   "source": [
    "---------------------------------------------------------------------------\n",
    "## **3.Overcoming OverFitting with Early Stopping**\n",
    "-------------------------------------------------------------------\n",
    "\n",
    "- Initiate Early Stopping using EarlyStopping function and pass the following parameters to it and save it in variable es -\n",
    "        \n",
    "        -monitor as val_loss\n",
    "        -mode as min\n",
    "        -verbose as 1\n",
    "        patience as 500 "
   ]
  },
  {
   "cell_type": "code",
   "execution_count": 14,
   "metadata": {},
   "outputs": [],
   "source": [
    "es = EarlyStopping(monitor = \"val_loss\", \n",
    "                  mode = \"min\", \n",
    "                  verbose = 1, \n",
    "                  patience = 500)"
   ]
  },
  {
   "cell_type": "markdown",
   "metadata": {},
   "source": [
    "### Fit the model\n",
    "- Fit the model1 with trainX and trainy ,validation_data as testX and testy, epochs as 4000,verbose as 0 ,callbacks as [es] and save it in history3"
   ]
  },
  {
   "cell_type": "code",
   "execution_count": 15,
   "metadata": {
    "scrolled": true
   },
   "outputs": [
    {
     "name": "stdout",
     "output_type": "stream",
     "text": [
      "Epoch 00502: early stopping\n"
     ]
    }
   ],
   "source": [
    "history3 = model1.fit(trainX, trainy, validation_data= (testX, testy),epochs = 4000, verbose = 0, callbacks = [es])"
   ]
  },
  {
   "cell_type": "markdown",
   "metadata": {},
   "source": [
    "### Evaluate the model\n",
    "- Evaluate the model1 with training data using trainX and trainy and give verbose as 0 and save it in train_acc2.\n",
    "\n",
    "- In the similar way evaluate the model1 with test data using testX and testy using verbose as 0 and save it in test_acc2."
   ]
  },
  {
   "cell_type": "code",
   "execution_count": 16,
   "metadata": {},
   "outputs": [
    {
     "name": "stdout",
     "output_type": "stream",
     "text": [
      "Train: 1.00, Test: 0.94\n"
     ]
    }
   ],
   "source": [
    "_, train_acc2 = model1.evaluate(trainX, trainy, verbose = 0)\n",
    "_, test_acc2= model1.evaluate(testX,testy, verbose = 0)\n",
    "print('Train: %.2f, Test: %.2f' % (train_acc2, test_acc2))"
   ]
  },
  {
   "cell_type": "markdown",
   "metadata": {},
   "source": [
    "### Run the below cell to look at the performance of the model"
   ]
  },
  {
   "cell_type": "code",
   "execution_count": 17,
   "metadata": {
    "scrolled": true
   },
   "outputs": [
    {
     "data": {
      "image/png": "[encoded data removed]",
      "text/plain": [
       "<Figure size 432x288 with 1 Axes>"
      ]
     },
     "metadata": {
      "needs_background": "light"
     },
     "output_type": "display_data"
    }
   ],
   "source": [
    "pyplot.plot(history3.history['accuracy'], label='train')\n",
    "pyplot.plot(history3.history['val_accuracy'], label='test')\n",
    "pyplot.legend()\n",
    "pyplot.show()"
   ]
  },
  {
   "cell_type": "markdown",
   "metadata": {},
   "source": [
    "---------------------------------------------------------------------------\n",
    "## **4.Overcoming OverFitting with Dropouts**\n",
    "-------------------------------------------------------------------\n",
    "\n",
    "### Create Model\n",
    "\n",
    "Construct a fully-connected network structure defined using dense class in the function model\n",
    "- Create a sequential model\n",
    "- The model expects rows of data with 2 variables (the input_dim=2 argument)\n",
    "- The hidden layer has 500 nodes and uses the relu activation function.\n",
    "- Add a dropout layer with dropout rate as 0.4\n",
    "- The output layer has 1 node and uses the sigmoid activation function.\n",
    "- While comipling the model pass the following parameters -\n",
    "                    \n",
    "           -optimizer as adam\n",
    "           -loss as binary cross entropy \n",
    "           -metrics as accuracy"
   ]
  },
  {
   "cell_type": "code",
   "execution_count": 18,
   "metadata": {},
   "outputs": [],
   "source": [
    "def model2():\n",
    "    model2 = Sequential()\n",
    "    model2.add(Dense(2, input_dim = 2))\n",
    "    model2.add(Dense(500, activation = \"relu\"))\n",
    "    model2.add(Dropout(0.4))\n",
    "    model2.add(Dense(1, activation = \"sigmoid\"))\n",
    "    \n",
    "    model2.compile(loss = \"binary_crossentropy\", \n",
    "             optimizer = \"adam\", \n",
    "             metrics = [\"accuracy\"])    \n",
    "    \n",
    "    \n",
    "    \n",
    "    \n",
    "    return model2"
   ]
  },
  {
   "cell_type": "markdown",
   "metadata": {},
   "source": [
    "### Fit the model\n",
    "- Call the function model2 and save it in variable model2\n",
    "- Fit the model2 with trainX and trainy ,validation_data as testX and testy, epochs as 4000,verbose as 0 ,and save it in history4"
   ]
  },
  {
   "cell_type": "code",
   "execution_count": 19,
   "metadata": {},
   "outputs": [],
   "source": [
    "model2= model2()\n",
    "history4 = model2.fit(trainX, trainy, validation_data= (testX, testy),epochs = 4000, verbose = 0)"
   ]
  },
  {
   "cell_type": "markdown",
   "metadata": {},
   "source": [
    "### Evaluate the model\n",
    "- Evaluate the model2 with training data using trainX and trainy and give verbose as 0 and save it in train_acc3.\n",
    "\n",
    "- In the similar way evaluate the model2 with test data using testX and testy using verbose as 0 and save it in test_acc3."
   ]
  },
  {
   "cell_type": "code",
   "execution_count": 20,
   "metadata": {},
   "outputs": [
    {
     "name": "stdout",
     "output_type": "stream",
     "text": [
      "Train: 1.00, Test: 0.885714\n"
     ]
    }
   ],
   "source": [
    "_, train_acc3 = model2.evaluate(trainX, trainy, verbose = 0)\n",
    "_, test_acc3 = model2.evaluate(testX,testy, verbose = 0)\n",
    "print('Train: %.2f, Test: %2f' % (train_acc3, test_acc3))"
   ]
  },
  {
   "cell_type": "markdown",
   "metadata": {},
   "source": [
    "### Run the below cell to look at the performance of the model"
   ]
  },
  {
   "cell_type": "code",
   "execution_count": 21,
   "metadata": {},
   "outputs": [
    {
     "data": {
      "image/png": "[encoded data removed]",
      "text/plain": [
       "<Figure size 432x288 with 1 Axes>"
      ]
     },
     "metadata": {
      "needs_background": "light"
     },
     "output_type": "display_data"
    }
   ],
   "source": [
    "pyplot.plot(history4.history['accuracy'], label='train')\n",
    "pyplot.plot(history4.history['val_accuracy'], label='test')\n",
    "pyplot.legend()\n",
    "pyplot.show()"
   ]
  },
  {
   "cell_type": "markdown",
   "metadata": {},
   "source": [
    "---------------------------------------------------------------------------\n",
    "## **5.Overcoming OverFitting with Weight Decays**\n",
    "-------------------------------------------------------------------\n",
    "\n",
    "### Create Model\n",
    "\n",
    "Construct a fully-connected network structure defined using dense class in the function model\n",
    "- Create a sequential model\n",
    "- The model expects rows of data with 2 variables (the input_dim=2 argument)\n",
    "- The hidden layer has 500 nodes and uses the relu activation function and it has kernal regulaizer as l2 with the rate as 0.01.\n",
    "- The output layer has 1 node and uses the sigmoid activation function.\n",
    "- While comipling the model pass the following parameters -\n",
    "                    \n",
    "           -optimizer as adam\n",
    "           -loss as binary cross entropy \n",
    "           -metrics as accuracy"
   ]
  },
  {
   "cell_type": "code",
   "execution_count": 22,
   "metadata": {},
   "outputs": [],
   "source": [
    "def model3():\n",
    "    model3 = Sequential()\n",
    "    model3.add(Dense(2, input_dim = 2))\n",
    "    model3.add(Dense(500, activation = \"relu\", kernel_regularizer = l2(0.01)))\n",
    "    model3.add(Dense(1, activation = \"sigmoid\"))\n",
    "    \n",
    "    model3.compile(loss = \"binary_crossentropy\", \n",
    "             optimizer = \"adam\", \n",
    "             metrics = [\"accuracy\"]) \n",
    "    \n",
    "    \n",
    "    \n",
    "\n",
    "    \n",
    "    return model3"
   ]
  },
  {
   "cell_type": "markdown",
   "metadata": {},
   "source": [
    "### Fit the model\n",
    "- Call the function model3 and save it in variable model3\n",
    "- Fit the model3 with trainX and trainy ,validation_data as testX and testy, epochs as 4000,verbose as 0 ,and save it in history5"
   ]
  },
  {
   "cell_type": "code",
   "execution_count": 23,
   "metadata": {},
   "outputs": [],
   "source": [
    "model3= model3()\n",
    "history5 = model3.fit(trainX, trainy, validation_data= (testX, testy),epochs = 4000, verbose = 0)"
   ]
  },
  {
   "cell_type": "markdown",
   "metadata": {},
   "source": [
    "### Evaluate the model\n",
    "- Evaluate the model3 with training data using trainX and trainy and give verbose as 0 and save it in train_acc4.\n",
    "\n",
    "- In the similar way evaluate the model3 with test data using testX and testy using verbose as 0 and save it in test_acc4."
   ]
  },
  {
   "cell_type": "code",
   "execution_count": 24,
   "metadata": {},
   "outputs": [
    {
     "name": "stdout",
     "output_type": "stream",
     "text": [
      "Train: 1.00, Test: 0.93\n"
     ]
    }
   ],
   "source": [
    "_, train_acc4 = model3.evaluate(trainX, trainy, verbose = 0)\n",
    "_, test_acc4 = model3.evaluate(testX,testy, verbose = 0)\n",
    "print('Train: %.2f, Test: %.2f' % (train_acc4, test_acc4))"
   ]
  },
  {
   "cell_type": "markdown",
   "metadata": {},
   "source": [
    "### Run the below cell to look at the performance of the model"
   ]
  },
  {
   "cell_type": "code",
   "execution_count": 25,
   "metadata": {
    "scrolled": true
   },
   "outputs": [
    {
     "data": {
      "image/png": "[encoded data removed]",
      "text/plain": [
       "<Figure size 432x288 with 1 Axes>"
      ]
     },
     "metadata": {
      "needs_background": "light"
     },
     "output_type": "display_data"
    }
   ],
   "source": [
    "pyplot.plot(history5.history['accuracy'], label='train')\n",
    "pyplot.plot(history5.history['val_accuracy'], label='test')\n",
    "pyplot.legend()\n",
    "pyplot.show()"
   ]
  },
  {
   "cell_type": "markdown",
   "metadata": {},
   "source": [
    "### Run the below cell to plot the results"
   ]
  },
  {
   "cell_type": "code",
   "execution_count": 26,
   "metadata": {
    "scrolled": false
   },
   "outputs": [
    {
     "data": {
      "text/plain": [
       "<Figure size 432x288 with 0 Axes>"
      ]
     },
     "metadata": {},
     "output_type": "display_data"
    },
    {
     "data": {
      "image/png": "[encoded data removed]",
      "text/plain": [
       "<Figure size 720x576 with 1 Axes>"
      ]
     },
     "metadata": {
      "needs_background": "light"
     },
     "output_type": "display_data"
    },
    {
     "data": {
      "image/png": "[encoded data removed]",
      "text/plain": [
       "<Figure size 720x576 with 1 Axes>"
      ]
     },
     "metadata": {
      "needs_background": "light"
     },
     "output_type": "display_data"
    }
   ],
   "source": [
    "train_list=[train_acc,train_acc1,train_acc2,train_acc3,train_acc4]\n",
    "test_list=[test_acc,test_acc1,test_acc2,test_acc3,test_acc4]\n",
    "\n",
    "df=pd.DataFrame(train_list)\n",
    "\n",
    "df[\"test_acc\"]=test_list\n",
    "\n",
    "df=df.rename(columns={0:\"train_acc\"})\n",
    "\n",
    "df[\"label\"]=[\"Model1\",\"Model2\",\"Model3\",\"Model4\",\"Model5\"]\n",
    "plt.figure(1)\n",
    "pyplot.figure(figsize=(10,8))\n",
    "#pyplot.xticks(grid_result1.cv_results_['mean_test_score'])\n",
    "pyplot.title(\"Train Accuracy of the model\")\n",
    "plot1=sns.barplot(df[\"label\"],df[\"train_acc\"],order=df[\"label\"])\n",
    "plot1.set(ylabel='Score')\n",
    "plt.figure(2)\n",
    "pyplot.figure(figsize=(10,8))\n",
    "#pyplot.xticks(grid_result1.cv_results_['mean_test_score'])\n",
    "pyplot.title(\"Test Accuracy of the model\")\n",
    "plot2=sns.barplot(df[\"label\"],df[\"test_acc\"],order=df[\"label\"])\n",
    "plot2.set(ylabel='Score')\n",
    "pyplot.show() "
   ]
  },
  {
   "cell_type": "markdown",
   "metadata": {},
   "source": [
    "**Note**\n",
    "\n",
    "In the same way you can try using other weight constraints like max_norm, min_max_norm .\n",
    "\n",
    "In the same way you can try exploring other weight decays (kernel regulaizers) like l1, l1 and l2 together."
   ]
  },
  {
   "cell_type": "markdown",
   "metadata": {},
   "source": [
    "### Run the below cell to save the models"
   ]
  },
  {
   "cell_type": "code",
   "execution_count": 27,
   "metadata": {},
   "outputs": [],
   "source": [
    "# serialize model to JSON\n",
    "model_json = model.to_json()\n",
    "with open(\"model.json\", \"w\") as json_file:\n",
    "    json_file.write(model_json)\n",
    "# serialize weights to HDF5\n",
    "model.save_weights(\"model.h5\")\n",
    "\n",
    "# serialize model to JSON\n",
    "model_json1 = model1.to_json()\n",
    "with open(\"model1.json\", \"w\") as json_file1:\n",
    "    json_file1.write(model_json1)\n",
    "# serialize weights to HDF5\n",
    "model1.save_weights(\"model1.h5\")\n",
    "\n",
    "# serialize model to JSON\n",
    "model_json2 = model2.to_json()\n",
    "with open(\"model2.json\", \"w\") as json_file2:\n",
    "    json_file2.write(model_json2)\n",
    "# serialize weights to HDF5\n",
    "model2.save_weights(\"model2.h5\")\n",
    "# serialize model to JSON\n",
    "model_json3 = model3.to_json()\n",
    "with open(\"model3.json\", \"w\") as json_file3:\n",
    "    json_file3.write(model_json3)\n",
    "# serialize weights to HDF5\n",
    "model3.save_weights(\"model3.h5\")"
   ]
  },
  {
   "cell_type": "markdown",
   "metadata": {},
   "source": [
    "### Run the below cell to save the scores "
   ]
  },
  {
   "cell_type": "code",
   "execution_count": 28,
   "metadata": {},
   "outputs": [],
   "source": [
    "with open(\"train_acc1.txt\",\"w\") as f:\n",
    "    f.write(str(round(train_acc,2)))\n",
    "with open(\"test_acc1.txt\",\"w\") as f:\n",
    "    f.write(str(round(test_acc,2)))\n",
    "\n",
    "with open(\"train_acc2.txt\",\"w\") as f:\n",
    "    f.write(str(round(train_acc1,2)))\n",
    "with open(\"test_acc2.txt\",\"w\") as f:\n",
    "    f.write(str(round(test_acc1,2)))\n",
    "    \n",
    "with open(\"train_acc3.txt\",\"w\") as f:\n",
    "    f.write(str(round(train_acc2,2)))\n",
    "with open(\"test_acc3.txt\",\"w\") as f:\n",
    "    f.write(str(round(test_acc2,2)))\n",
    "    \n",
    "with open(\"train_acc4.txt\",\"w\") as f:\n",
    "    f.write(str(round(train_acc3,2)))\n",
    "with open(\"test_acc4.txt\",\"w\") as f:\n",
    "    f.write(str(round(test_acc3,2)))\n",
    "\n",
    "with open(\"train_acc5.txt\",\"w\") as f:\n",
    "    f.write(str(round(train_acc4,2)))\n",
    "with open(\"test_acc5.txt\",\"w\") as f:\n",
    "    f.write(str(round(test_acc4,2)))\n",
    "\n"
   ]
  },
  {
   "cell_type": "code",
   "execution_count": null,
   "metadata": {},
   "outputs": [],
   "source": []
  }
 ],
 "metadata": {
  "kernelspec": {
   "display_name": "Python 3",
   "language": "python",
   "name": "python3"
  },
  "language_info": {
   "codemirror_mode": {
    "name": "ipython",
    "version": 3
   },
   "file_extension": ".py",
   "mimetype": "text/x-python",
   "name": "python",
   "nbconvert_exporter": "python",
   "pygments_lexer": "ipython3",
   "version": "3.5.2"
  }
 },
 "nbformat": 4,
 "nbformat_minor": 2
}
