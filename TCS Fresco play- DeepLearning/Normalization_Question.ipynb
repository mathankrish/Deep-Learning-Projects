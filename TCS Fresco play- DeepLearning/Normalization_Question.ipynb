{
 "cells": [
  {
   "cell_type": "markdown",
   "metadata": {},
   "source": [
    "## **Normalization using Tensorflow Keras**\n",
    "In this scenario of hackerrank, you will be exploring about the **Normalization** and how to use it.  \n",
    "\n",
    "We will look at three scenarios here\n",
    "1. Without Normalization, \n",
    "2. Applying Normalization before Activation Function\n",
    "3. Applying Normalization after Activation Function\n",
    "\n",
    "**Note** - Finally restart and run all the cells after the completion of the challenge\n"
   ]
  },
  {
   "cell_type": "markdown",
   "metadata": {},
   "source": [
    "### Run the below cell to import the neccessary packages"
   ]
  },
  {
   "cell_type": "code",
   "execution_count": 1,
   "metadata": {
    "scrolled": true
   },
   "outputs": [
    {
     "name": "stderr",
     "output_type": "stream",
     "text": [
      "Using TensorFlow backend.\n"
     ]
    }
   ],
   "source": [
    "import numpy as np\n",
    "from keras.models import Sequential\n",
    "from keras.layers import Dense\n",
    "from keras.wrappers.scikit_learn import KerasClassifier\n",
    "from sklearn.datasets import load_breast_cancer\n",
    "from sklearn.model_selection import train_test_split\n",
    "from matplotlib import pyplot\n",
    "import seaborn as sns\n",
    "import pandas as pd\n",
    "from keras.layers import BatchNormalization\n",
    "from keras.models import model_from_json\n",
    "import tensorflow as tf\n",
    "from sklearn.datasets import load_breast_cancer\n",
    "from sklearn import metrics\n",
    "import random as rn\n",
    "from keras import backend as K\n",
    "import matplotlib.pyplot as plt\n",
    "import os\n",
    "from keras.layers import Activation"
   ]
  },
  {
   "cell_type": "markdown",
   "metadata": {},
   "source": [
    "### Run the below cells so as to get the reproducibility of the results"
   ]
  },
  {
   "cell_type": "code",
   "execution_count": 2,
   "metadata": {},
   "outputs": [],
   "source": [
    "os.environ[\"CUDA_DEVICE_ORDER\"] = \"PCI_BUS_ID\"\n",
    "os.environ[\"CUDA_VISIBLE_DEVICES\"] = \"\""
   ]
  },
  {
   "cell_type": "code",
   "execution_count": 3,
   "metadata": {},
   "outputs": [],
   "source": [
    "sd = 22 # Here sd means seed.\n",
    "np.random.seed(sd)\n",
    "rn.seed(sd)\n",
    "os.environ['PYTHONHASHSEED']=str(sd)\n",
    "\n",
    "config = tf.ConfigProto(intra_op_parallelism_threads=1,inter_op_parallelism_threads=1)\n",
    "tf.set_random_seed(sd)\n",
    "sess = tf.Session(graph=tf.get_default_graph(), config=config)\n",
    "K.set_session(sess)"
   ]
  },
  {
   "cell_type": "markdown",
   "metadata": {},
   "source": [
    "### Load the dataset \n",
    " - Load the breast cancer dataset using load_breast_cancer function"
   ]
  },
  {
   "cell_type": "code",
   "execution_count": 4,
   "metadata": {},
   "outputs": [],
   "source": [
    "X, y = load_breast_cancer().data, load_breast_cancer().target"
   ]
  },
  {
   "cell_type": "markdown",
   "metadata": {},
   "source": [
    "### Split the Dataset\n",
    "- Split the data with the train_test_split function of sklearn with parameters test_size=0.2 and random_state=500"
   ]
  },
  {
   "cell_type": "code",
   "execution_count": 5,
   "metadata": {},
   "outputs": [],
   "source": [
    "X_train, X_test, y_train, y_test = train_test_split(X,y, test_size = 0.2, random_state = 500)\n"
   ]
  },
  {
   "cell_type": "markdown",
   "metadata": {},
   "source": [
    "---------------------------------------------------------------------------\n",
    "## **1.Without Normalization**\n",
    "-------------------------------------------------------------------\n",
    "\n",
    "### Create Model\n",
    "\n",
    "Construct a fully-connected network structure defined using dense class\n",
    "- Create a sequential model\n",
    "- The model expects rows of data with 30 variables (the input_dim=30 argument)\n",
    "- The first hidden layer has 90 nodes and uses the relu activation function.\n",
    "- The second hidden layer has 60 nodes and uses the relu activation function.\n",
    "- The third hidden layer has 30 nodes and uses the relu activation function.\n",
    "- The output layer has 1 node and uses the sigmoid activation function.\n",
    "- While comipling the model pass the following parameters -\n",
    "                    \n",
    "           -optimizer as Adagrad\n",
    "           -loss as binary cross entropy \n",
    "           -metrics as accuracy"
   ]
  },
  {
   "cell_type": "code",
   "execution_count": 6,
   "metadata": {
    "scrolled": false
   },
   "outputs": [
    {
     "name": "stdout",
     "output_type": "stream",
     "text": [
      "WARNING:tensorflow:From /home/user/.local/lib/python3.5/site-packages/tensorflow/python/ops/resource_variable_ops.py:435: colocate_with (from tensorflow.python.framework.ops) is deprecated and will be removed in a future version.\n",
      "Instructions for updating:\n",
      "Colocations handled automatically by placer.\n"
     ]
    }
   ],
   "source": [
    "model = Sequential()\n",
    "model.add(Dense(30, input_dim = 30))\n",
    "model.add(Dense(90, activation = \"relu\"))\n",
    "model.add(Dense(60, activation = \"relu\"))\n",
    "model.add(Dense(30, activation = \"relu\"))\n",
    "model.add(Dense(1, activation = \"sigmoid\"))\n",
    "\n",
    "model.compile(loss = \"binary_crossentropy\", \n",
    "             optimizer = \"Adagrad\", \n",
    "             metrics = [\"accuracy\"])\n",
    "\n",
    "\n",
    "\n"
   ]
  },
  {
   "cell_type": "markdown",
   "metadata": {},
   "source": [
    "### Fit the model\n",
    "- fit the model with X_train, y_train, epochs=50, batch_size=50,shuffle=False,validation_split=0.2,verbose=1 and save it in history"
   ]
  },
  {
   "cell_type": "code",
   "execution_count": 7,
   "metadata": {
    "scrolled": true
   },
   "outputs": [
    {
     "name": "stdout",
     "output_type": "stream",
     "text": [
      "WARNING:tensorflow:From /home/user/.local/lib/python3.5/site-packages/tensorflow/python/ops/math_ops.py:3066: to_int32 (from tensorflow.python.ops.math_ops) is deprecated and will be removed in a future version.\n",
      "Instructions for updating:\n",
      "Use tf.cast instead.\n",
      "Train on 364 samples, validate on 91 samples\n",
      "Epoch 1/50\n",
      "364/364 [==============================] - 0s 497us/step - loss: 6.3507 - accuracy: 0.6016 - val_loss: 5.6061 - val_accuracy: 0.6484\n",
      "Epoch 2/50\n",
      "364/364 [==============================] - 0s 34us/step - loss: 6.3507 - accuracy: 0.6016 - val_loss: 5.6061 - val_accuracy: 0.6484\n",
      "Epoch 3/50\n",
      "364/364 [==============================] - 0s 32us/step - loss: 6.3507 - accuracy: 0.6016 - val_loss: 5.6061 - val_accuracy: 0.6484\n",
      "Epoch 4/50\n",
      "364/364 [==============================] - 0s 33us/step - loss: 6.3507 - accuracy: 0.6016 - val_loss: 5.6061 - val_accuracy: 0.6484\n",
      "Epoch 5/50\n",
      "364/364 [==============================] - 0s 33us/step - loss: 6.3507 - accuracy: 0.6016 - val_loss: 5.6061 - val_accuracy: 0.6484\n",
      "Epoch 6/50\n",
      "364/364 [==============================] - 0s 34us/step - loss: 6.3507 - accuracy: 0.6016 - val_loss: 5.6061 - val_accuracy: 0.6484\n",
      "Epoch 7/50\n",
      "364/364 [==============================] - 0s 34us/step - loss: 6.3507 - accuracy: 0.6016 - val_loss: 5.6061 - val_accuracy: 0.6484\n",
      "Epoch 8/50\n",
      "364/364 [==============================] - 0s 34us/step - loss: 6.3507 - accuracy: 0.6016 - val_loss: 5.6061 - val_accuracy: 0.6484\n",
      "Epoch 9/50\n",
      "364/364 [==============================] - 0s 33us/step - loss: 6.3507 - accuracy: 0.6016 - val_loss: 5.6061 - val_accuracy: 0.6484\n",
      "Epoch 10/50\n",
      "364/364 [==============================] - 0s 34us/step - loss: 6.3507 - accuracy: 0.6016 - val_loss: 5.6061 - val_accuracy: 0.6484\n",
      "Epoch 11/50\n",
      "364/364 [==============================] - 0s 33us/step - loss: 6.3507 - accuracy: 0.6016 - val_loss: 5.6061 - val_accuracy: 0.6484\n",
      "Epoch 12/50\n",
      "364/364 [==============================] - 0s 33us/step - loss: 6.3507 - accuracy: 0.6016 - val_loss: 5.6061 - val_accuracy: 0.6484\n",
      "Epoch 13/50\n",
      "364/364 [==============================] - 0s 35us/step - loss: 6.3507 - accuracy: 0.6016 - val_loss: 5.6061 - val_accuracy: 0.6484\n",
      "Epoch 14/50\n",
      "364/364 [==============================] - 0s 33us/step - loss: 6.3507 - accuracy: 0.6016 - val_loss: 5.6061 - val_accuracy: 0.6484\n",
      "Epoch 15/50\n",
      "364/364 [==============================] - 0s 33us/step - loss: 6.3507 - accuracy: 0.6016 - val_loss: 5.6061 - val_accuracy: 0.6484\n",
      "Epoch 16/50\n",
      "364/364 [==============================] - 0s 34us/step - loss: 6.3507 - accuracy: 0.6016 - val_loss: 5.6061 - val_accuracy: 0.6484\n",
      "Epoch 17/50\n",
      "364/364 [==============================] - 0s 34us/step - loss: 6.3507 - accuracy: 0.6016 - val_loss: 5.6061 - val_accuracy: 0.6484\n",
      "Epoch 18/50\n",
      "364/364 [==============================] - 0s 34us/step - loss: 6.3507 - accuracy: 0.6016 - val_loss: 5.6061 - val_accuracy: 0.6484\n",
      "Epoch 19/50\n",
      "364/364 [==============================] - 0s 34us/step - loss: 6.3507 - accuracy: 0.6016 - val_loss: 5.6061 - val_accuracy: 0.6484\n",
      "Epoch 20/50\n",
      "364/364 [==============================] - 0s 34us/step - loss: 6.3507 - accuracy: 0.6016 - val_loss: 5.6061 - val_accuracy: 0.6484\n",
      "Epoch 21/50\n",
      "364/364 [==============================] - 0s 33us/step - loss: 6.3507 - accuracy: 0.6016 - val_loss: 5.6061 - val_accuracy: 0.6484\n",
      "Epoch 22/50\n",
      "364/364 [==============================] - 0s 34us/step - loss: 6.3507 - accuracy: 0.6016 - val_loss: 5.6061 - val_accuracy: 0.6484\n",
      "Epoch 23/50\n",
      "364/364 [==============================] - 0s 34us/step - loss: 6.3507 - accuracy: 0.6016 - val_loss: 5.6061 - val_accuracy: 0.6484\n",
      "Epoch 24/50\n",
      "364/364 [==============================] - 0s 33us/step - loss: 6.3507 - accuracy: 0.6016 - val_loss: 5.6061 - val_accuracy: 0.6484\n",
      "Epoch 25/50\n",
      "364/364 [==============================] - 0s 35us/step - loss: 6.3507 - accuracy: 0.6016 - val_loss: 5.6061 - val_accuracy: 0.6484\n",
      "Epoch 26/50\n",
      "364/364 [==============================] - 0s 34us/step - loss: 6.3507 - accuracy: 0.6016 - val_loss: 5.6061 - val_accuracy: 0.6484\n",
      "Epoch 27/50\n",
      "364/364 [==============================] - 0s 32us/step - loss: 6.3507 - accuracy: 0.6016 - val_loss: 5.6061 - val_accuracy: 0.6484\n",
      "Epoch 28/50\n",
      "364/364 [==============================] - 0s 31us/step - loss: 6.3507 - accuracy: 0.6016 - val_loss: 5.6061 - val_accuracy: 0.6484\n",
      "Epoch 29/50\n",
      "364/364 [==============================] - 0s 32us/step - loss: 6.3507 - accuracy: 0.6016 - val_loss: 5.6061 - val_accuracy: 0.6484\n",
      "Epoch 30/50\n",
      "364/364 [==============================] - 0s 31us/step - loss: 6.3507 - accuracy: 0.6016 - val_loss: 5.6061 - val_accuracy: 0.6484\n",
      "Epoch 31/50\n",
      "364/364 [==============================] - 0s 32us/step - loss: 6.3507 - accuracy: 0.6016 - val_loss: 5.6061 - val_accuracy: 0.6484\n",
      "Epoch 32/50\n",
      "364/364 [==============================] - 0s 33us/step - loss: 6.3507 - accuracy: 0.6016 - val_loss: 5.6061 - val_accuracy: 0.6484\n",
      "Epoch 33/50\n",
      "364/364 [==============================] - 0s 34us/step - loss: 6.3507 - accuracy: 0.6016 - val_loss: 5.6061 - val_accuracy: 0.6484\n",
      "Epoch 34/50\n",
      "364/364 [==============================] - 0s 34us/step - loss: 6.3507 - accuracy: 0.6016 - val_loss: 5.6061 - val_accuracy: 0.6484\n",
      "Epoch 35/50\n",
      "364/364 [==============================] - 0s 36us/step - loss: 6.3507 - accuracy: 0.6016 - val_loss: 5.6061 - val_accuracy: 0.6484\n",
      "Epoch 36/50\n",
      "364/364 [==============================] - 0s 40us/step - loss: 6.3507 - accuracy: 0.6016 - val_loss: 5.6061 - val_accuracy: 0.6484\n",
      "Epoch 37/50\n",
      "364/364 [==============================] - 0s 34us/step - loss: 6.3507 - accuracy: 0.6016 - val_loss: 5.6061 - val_accuracy: 0.6484\n",
      "Epoch 38/50\n",
      "364/364 [==============================] - 0s 33us/step - loss: 6.3507 - accuracy: 0.6016 - val_loss: 5.6061 - val_accuracy: 0.6484\n",
      "Epoch 39/50\n",
      "364/364 [==============================] - 0s 34us/step - loss: 6.3507 - accuracy: 0.6016 - val_loss: 5.6061 - val_accuracy: 0.6484\n",
      "Epoch 40/50\n",
      "364/364 [==============================] - 0s 34us/step - loss: 6.3507 - accuracy: 0.6016 - val_loss: 5.6061 - val_accuracy: 0.6484\n",
      "Epoch 41/50\n",
      "364/364 [==============================] - 0s 35us/step - loss: 6.3507 - accuracy: 0.6016 - val_loss: 5.6061 - val_accuracy: 0.6484\n",
      "Epoch 42/50\n",
      "364/364 [==============================] - 0s 33us/step - loss: 6.3507 - accuracy: 0.6016 - val_loss: 5.6061 - val_accuracy: 0.6484\n",
      "Epoch 43/50\n",
      "364/364 [==============================] - 0s 33us/step - loss: 6.3507 - accuracy: 0.6016 - val_loss: 5.6061 - val_accuracy: 0.6484\n",
      "Epoch 44/50\n",
      "364/364 [==============================] - 0s 33us/step - loss: 6.3507 - accuracy: 0.6016 - val_loss: 5.6061 - val_accuracy: 0.6484\n",
      "Epoch 45/50\n",
      "364/364 [==============================] - 0s 33us/step - loss: 6.3507 - accuracy: 0.6016 - val_loss: 5.6061 - val_accuracy: 0.6484\n",
      "Epoch 46/50\n",
      "364/364 [==============================] - 0s 32us/step - loss: 6.3507 - accuracy: 0.6016 - val_loss: 5.6061 - val_accuracy: 0.6484\n",
      "Epoch 47/50\n",
      "364/364 [==============================] - 0s 33us/step - loss: 6.3507 - accuracy: 0.6016 - val_loss: 5.6061 - val_accuracy: 0.6484\n",
      "Epoch 48/50\n",
      "364/364 [==============================] - 0s 32us/step - loss: 6.3507 - accuracy: 0.6016 - val_loss: 5.6061 - val_accuracy: 0.6484\n",
      "Epoch 49/50\n",
      "364/364 [==============================] - 0s 34us/step - loss: 6.3507 - accuracy: 0.6016 - val_loss: 5.6061 - val_accuracy: 0.6484\n",
      "Epoch 50/50\n",
      "364/364 [==============================] - 0s 32us/step - loss: 6.3507 - accuracy: 0.6016 - val_loss: 5.6061 - val_accuracy: 0.6484\n"
     ]
    }
   ],
   "source": [
    "history = model.fit(X_train, y_train, epochs = 50, batch_size = 50, \n",
    "                   shuffle = False, validation_split=0.2,verbose=1)\n"
   ]
  },
  {
   "cell_type": "markdown",
   "metadata": {},
   "source": [
    "### Evaluate the model\n",
    "- Evaluate the model with training data using X_train and y_train and give verbose as 0 and save it in train_acc\n",
    "\n",
    "- In the similar way evaluate the model with test data using X_test and y_test using verbose as 0 and save it in test_acc"
   ]
  },
  {
   "cell_type": "code",
   "execution_count": 8,
   "metadata": {
    "scrolled": false
   },
   "outputs": [
    {
     "name": "stdout",
     "output_type": "stream",
     "text": [
      "Train: 0.61, Test: 0.69\n"
     ]
    }
   ],
   "source": [
    "_, train_acc = model.evaluate(X_train, y_train, verbose = 0)\n",
    "_,test_acc= model.evaluate(X_test, y_test, verbose = 0)\n",
    "print('Train: %.2f, Test: %.2f' % (train_acc, test_acc))\n"
   ]
  },
  {
   "cell_type": "markdown",
   "metadata": {},
   "source": [
    "### Run the below cell to look at the performance of the model"
   ]
  },
  {
   "cell_type": "code",
   "execution_count": 9,
   "metadata": {},
   "outputs": [
    {
     "data": {
      "image/png": "[encoded data removed]",
      "text/plain": [
       "<Figure size 432x288 with 1 Axes>"
      ]
     },
     "metadata": {
      "needs_background": "light"
     },
     "output_type": "display_data"
    },
    {
     "data": {
      "image/png": "[encoded data removed]",
      "text/plain": [
       "<Figure size 432x288 with 1 Axes>"
      ]
     },
     "metadata": {
      "needs_background": "light"
     },
     "output_type": "display_data"
    }
   ],
   "source": [
    "def plot_history(history):\n",
    "    loss_list = [s for s in history.history.keys() if 'loss' in s and 'val' not in s]\n",
    "    val_loss_list = [s for s in history.history.keys() if 'loss' in s and 'val' in s]\n",
    "    acc_list = [s for s in history.history.keys() if 'acc' in s and 'val' not in s]\n",
    "    val_acc_list = [s for s in history.history.keys() if 'acc' in s and 'val' in s]\n",
    "    \n",
    "    if len(loss_list) == 0:\n",
    "        print('Loss is missing in history')\n",
    "        return \n",
    "    \n",
    "    ## As loss always exists\n",
    "    epochs = range(1,len(history.history[loss_list[0]]) + 1)\n",
    "    \n",
    "    ## Loss\n",
    "    plt.figure(1)\n",
    "    for l in loss_list:\n",
    "        plt.plot(epochs, history.history[l], 'b', label='Training loss (' + str(str(format(history.history[l][-1],'.5f'))+')'))\n",
    "    for l in val_loss_list:\n",
    "        plt.plot(epochs, history.history[l], 'g', label='Validation loss (' + str(str(format(history.history[l][-1],'.5f'))+')'))\n",
    "    \n",
    "    plt.title('Loss')\n",
    "    plt.xlabel('Epochs')\n",
    "    plt.ylabel('Loss')\n",
    "    plt.legend()\n",
    "    \n",
    "    ## Accuracy\n",
    "    plt.figure(2)\n",
    "    for l in acc_list:\n",
    "        plt.plot(epochs, history.history[l], 'b', label='Training accuracy (' + str(format(history.history[l][-1],'.5f'))+')')\n",
    "    for l in val_acc_list:    \n",
    "        plt.plot(epochs, history.history[l], 'g', label='Validation accuracy (' + str(format(history.history[l][-1],'.5f'))+')')\n",
    "\n",
    "    plt.title('Accuracy')\n",
    "    plt.xlabel('Epochs')\n",
    "    plt.ylabel('Accuracy')\n",
    "    plt.legend()\n",
    "    plt.show()\n",
    "# Calling the function\n",
    "plot_history(history)"
   ]
  },
  {
   "cell_type": "markdown",
   "metadata": {},
   "source": [
    "---------------------------------------------------------------------------\n",
    "## **2.Applying Normalization before Activation Function**\n",
    "-------------------------------------------------------------------\n",
    "\n",
    "### Create Model\n",
    "\n",
    "Construct a fully-connected network structure defined using dense class\n",
    "- Create a sequential model1\n",
    "- The model1 expects rows of data with 30 variables (the input_dim=30 argument)\n",
    "- The first hidden layer has 90 nodes.\n",
    "- Add Batch Normalization using BatchNormalization function to the model1.\n",
    "- Add the activation function as relu\n",
    "- The second hidden layer has 60 nodes.\n",
    "- Add Batch Normalization using BatchNormalization function to the model1.\n",
    "- Add the activation function as relu\n",
    "- The third hidden layer has 30 nodes.\n",
    "- Add Batch Normalization using BatchNormalization function to the model1.\n",
    "- Add the activation function as relu\n",
    "- The output layer has 1 node and uses the sigmoid activation function.\n",
    "- While comipling the model1 pass the following parameters -\n",
    "                    \n",
    "           -optimizer as Adagrad\n",
    "           -loss as binary cross entropy \n",
    "           -metrics as accuracy"
   ]
  },
  {
   "cell_type": "code",
   "execution_count": 10,
   "metadata": {},
   "outputs": [],
   "source": [
    "model1 = Sequential()\n",
    "model1.add(Dense(30, input_dim = 30))\n",
    "\n",
    "model1.add(Dense(90))\n",
    "model1.add(BatchNormalization())\n",
    "model1.add(Activation(\"relu\"))\n",
    "\n",
    "model1.add(Dense(60))\n",
    "model1.add(BatchNormalization())\n",
    "model1.add(Activation(\"relu\"))\n",
    "\n",
    "model1.add(Dense(30))\n",
    "model1.add(BatchNormalization())\n",
    "model1.add(Activation(\"relu\"))   \n",
    "\n",
    "model1.add(Dense(1, activation = \"sigmoid\"))\n",
    "\n",
    "model1.compile(loss = \"binary_crossentropy\", \n",
    "             optimizer = \"Adagrad\", \n",
    "             metrics = [\"accuracy\"])\n",
    "\n",
    "\n",
    "\n"
   ]
  },
  {
   "cell_type": "markdown",
   "metadata": {},
   "source": [
    "### Fit the model\n",
    "- fit the model1 with X_train, y_train, epochs=50, batch_size=50,shuffle=False,validation_split=0.2,verbose=1 and save it in history1"
   ]
  },
  {
   "cell_type": "code",
   "execution_count": 11,
   "metadata": {
    "scrolled": true
   },
   "outputs": [
    {
     "name": "stdout",
     "output_type": "stream",
     "text": [
      "Train on 364 samples, validate on 91 samples\n",
      "Epoch 1/50\n",
      "364/364 [==============================] - 1s 1ms/step - loss: 0.3780 - accuracy: 0.8297 - val_loss: 4.3256 - val_accuracy: 0.3516\n",
      "Epoch 2/50\n",
      "364/364 [==============================] - 0s 54us/step - loss: 0.2258 - accuracy: 0.9286 - val_loss: 2.1805 - val_accuracy: 0.3516\n",
      "Epoch 3/50\n",
      "364/364 [==============================] - 0s 51us/step - loss: 0.2033 - accuracy: 0.9286 - val_loss: 1.8128 - val_accuracy: 0.3516\n",
      "Epoch 4/50\n",
      "364/364 [==============================] - 0s 49us/step - loss: 0.1801 - accuracy: 0.9313 - val_loss: 1.3467 - val_accuracy: 0.3626\n",
      "Epoch 5/50\n",
      "364/364 [==============================] - 0s 52us/step - loss: 0.1646 - accuracy: 0.9423 - val_loss: 1.0098 - val_accuracy: 0.4066\n",
      "Epoch 6/50\n",
      "364/364 [==============================] - 0s 55us/step - loss: 0.1534 - accuracy: 0.9396 - val_loss: 0.8585 - val_accuracy: 0.4066\n",
      "Epoch 7/50\n",
      "364/364 [==============================] - 0s 56us/step - loss: 0.1443 - accuracy: 0.9533 - val_loss: 0.6605 - val_accuracy: 0.5055\n",
      "Epoch 8/50\n",
      "364/364 [==============================] - 0s 49us/step - loss: 0.1352 - accuracy: 0.9588 - val_loss: 0.6656 - val_accuracy: 0.5055\n",
      "Epoch 9/50\n",
      "364/364 [==============================] - 0s 48us/step - loss: 0.1333 - accuracy: 0.9560 - val_loss: 0.6575 - val_accuracy: 0.5495\n",
      "Epoch 10/50\n",
      "364/364 [==============================] - 0s 50us/step - loss: 0.1257 - accuracy: 0.9615 - val_loss: 0.6588 - val_accuracy: 0.5495\n",
      "Epoch 11/50\n",
      "364/364 [==============================] - 0s 48us/step - loss: 0.1205 - accuracy: 0.9588 - val_loss: 0.6748 - val_accuracy: 0.5495\n",
      "Epoch 12/50\n",
      "364/364 [==============================] - 0s 48us/step - loss: 0.1148 - accuracy: 0.9560 - val_loss: 0.5858 - val_accuracy: 0.6484\n",
      "Epoch 13/50\n",
      "364/364 [==============================] - 0s 48us/step - loss: 0.1064 - accuracy: 0.9588 - val_loss: 0.5744 - val_accuracy: 0.6593\n",
      "Epoch 14/50\n",
      "364/364 [==============================] - 0s 48us/step - loss: 0.1031 - accuracy: 0.9588 - val_loss: 0.5914 - val_accuracy: 0.6374\n",
      "Epoch 15/50\n",
      "364/364 [==============================] - 0s 51us/step - loss: 0.0993 - accuracy: 0.9615 - val_loss: 0.4830 - val_accuracy: 0.7253\n",
      "Epoch 16/50\n",
      "364/364 [==============================] - 0s 49us/step - loss: 0.0971 - accuracy: 0.9643 - val_loss: 0.5117 - val_accuracy: 0.6813\n",
      "Epoch 17/50\n",
      "364/364 [==============================] - 0s 50us/step - loss: 0.0936 - accuracy: 0.9670 - val_loss: 0.4194 - val_accuracy: 0.8132\n",
      "Epoch 18/50\n",
      "364/364 [==============================] - 0s 52us/step - loss: 0.0903 - accuracy: 0.9643 - val_loss: 0.3921 - val_accuracy: 0.8571\n",
      "Epoch 19/50\n",
      "364/364 [==============================] - 0s 53us/step - loss: 0.0861 - accuracy: 0.9670 - val_loss: 0.3716 - val_accuracy: 0.8791\n",
      "Epoch 20/50\n",
      "364/364 [==============================] - 0s 51us/step - loss: 0.0825 - accuracy: 0.9670 - val_loss: 0.2902 - val_accuracy: 0.9121\n",
      "Epoch 21/50\n",
      "364/364 [==============================] - 0s 53us/step - loss: 0.0816 - accuracy: 0.9725 - val_loss: 0.3039 - val_accuracy: 0.9121\n",
      "Epoch 22/50\n",
      "364/364 [==============================] - 0s 50us/step - loss: 0.0794 - accuracy: 0.9725 - val_loss: 0.2839 - val_accuracy: 0.9121\n",
      "Epoch 23/50\n",
      "364/364 [==============================] - 0s 48us/step - loss: 0.0776 - accuracy: 0.9753 - val_loss: 0.2031 - val_accuracy: 0.9341\n",
      "Epoch 24/50\n",
      "364/364 [==============================] - 0s 48us/step - loss: 0.0737 - accuracy: 0.9780 - val_loss: 0.2123 - val_accuracy: 0.9231\n",
      "Epoch 25/50\n",
      "364/364 [==============================] - 0s 49us/step - loss: 0.0719 - accuracy: 0.9753 - val_loss: 0.1681 - val_accuracy: 0.9341\n",
      "Epoch 26/50\n",
      "364/364 [==============================] - 0s 48us/step - loss: 0.0739 - accuracy: 0.9725 - val_loss: 0.1647 - val_accuracy: 0.9341\n",
      "Epoch 27/50\n",
      "364/364 [==============================] - 0s 49us/step - loss: 0.0654 - accuracy: 0.9808 - val_loss: 0.1494 - val_accuracy: 0.9341\n",
      "Epoch 28/50\n",
      "364/364 [==============================] - 0s 48us/step - loss: 0.0667 - accuracy: 0.9753 - val_loss: 0.1554 - val_accuracy: 0.9121\n",
      "Epoch 29/50\n",
      "364/364 [==============================] - 0s 47us/step - loss: 0.0637 - accuracy: 0.9808 - val_loss: 0.1453 - val_accuracy: 0.9231\n",
      "Epoch 30/50\n",
      "364/364 [==============================] - 0s 49us/step - loss: 0.0604 - accuracy: 0.9780 - val_loss: 0.1359 - val_accuracy: 0.9341\n",
      "Epoch 31/50\n",
      "364/364 [==============================] - 0s 49us/step - loss: 0.0580 - accuracy: 0.9835 - val_loss: 0.1298 - val_accuracy: 0.9451\n",
      "Epoch 32/50\n",
      "364/364 [==============================] - 0s 48us/step - loss: 0.0629 - accuracy: 0.9808 - val_loss: 0.1456 - val_accuracy: 0.9341\n",
      "Epoch 33/50\n",
      "364/364 [==============================] - 0s 54us/step - loss: 0.0556 - accuracy: 0.9890 - val_loss: 0.1323 - val_accuracy: 0.9451\n",
      "Epoch 34/50\n",
      "364/364 [==============================] - 0s 51us/step - loss: 0.0533 - accuracy: 0.9863 - val_loss: 0.1552 - val_accuracy: 0.9341\n",
      "Epoch 35/50\n",
      "364/364 [==============================] - 0s 54us/step - loss: 0.0523 - accuracy: 0.9890 - val_loss: 0.1557 - val_accuracy: 0.9341\n",
      "Epoch 36/50\n",
      "364/364 [==============================] - 0s 51us/step - loss: 0.0475 - accuracy: 0.9945 - val_loss: 0.1978 - val_accuracy: 0.9341\n",
      "Epoch 37/50\n",
      "364/364 [==============================] - 0s 52us/step - loss: 0.0478 - accuracy: 0.9863 - val_loss: 0.2028 - val_accuracy: 0.9231\n",
      "Epoch 38/50\n",
      "364/364 [==============================] - 0s 55us/step - loss: 0.0459 - accuracy: 0.9945 - val_loss: 0.1650 - val_accuracy: 0.9341\n",
      "Epoch 39/50\n",
      "364/364 [==============================] - 0s 52us/step - loss: 0.0444 - accuracy: 0.9918 - val_loss: 0.1826 - val_accuracy: 0.9341\n",
      "Epoch 40/50\n",
      "364/364 [==============================] - 0s 53us/step - loss: 0.0414 - accuracy: 0.9945 - val_loss: 0.2396 - val_accuracy: 0.9231\n",
      "Epoch 41/50\n",
      "364/364 [==============================] - 0s 51us/step - loss: 0.0424 - accuracy: 0.9890 - val_loss: 0.1899 - val_accuracy: 0.9341\n",
      "Epoch 42/50\n",
      "364/364 [==============================] - 0s 50us/step - loss: 0.0408 - accuracy: 0.9945 - val_loss: 0.2281 - val_accuracy: 0.9231\n",
      "Epoch 43/50\n",
      "364/364 [==============================] - 0s 52us/step - loss: 0.0417 - accuracy: 0.9890 - val_loss: 0.2170 - val_accuracy: 0.9341\n",
      "Epoch 44/50\n",
      "364/364 [==============================] - 0s 52us/step - loss: 0.0386 - accuracy: 0.9945 - val_loss: 0.2478 - val_accuracy: 0.9231\n",
      "Epoch 45/50\n",
      "364/364 [==============================] - 0s 51us/step - loss: 0.0359 - accuracy: 0.9918 - val_loss: 0.2226 - val_accuracy: 0.9121\n",
      "Epoch 46/50\n",
      "364/364 [==============================] - 0s 52us/step - loss: 0.0353 - accuracy: 0.9945 - val_loss: 0.2695 - val_accuracy: 0.9121\n",
      "Epoch 47/50\n",
      "364/364 [==============================] - 0s 51us/step - loss: 0.0360 - accuracy: 0.9918 - val_loss: 0.2273 - val_accuracy: 0.9121\n",
      "Epoch 48/50\n",
      "364/364 [==============================] - 0s 51us/step - loss: 0.0353 - accuracy: 0.9945 - val_loss: 0.1802 - val_accuracy: 0.9451\n",
      "Epoch 49/50\n",
      "364/364 [==============================] - 0s 52us/step - loss: 0.0323 - accuracy: 0.9945 - val_loss: 0.2055 - val_accuracy: 0.9341\n",
      "Epoch 50/50\n",
      "364/364 [==============================] - 0s 51us/step - loss: 0.0283 - accuracy: 0.9945 - val_loss: 0.1654 - val_accuracy: 0.9451\n"
     ]
    }
   ],
   "source": [
    "history1 = model1.fit(X_train, y_train, epochs=50, batch_size=50,shuffle=False,validation_split=0.2,verbose=1)\n"
   ]
  },
  {
   "cell_type": "markdown",
   "metadata": {},
   "source": [
    "### Evaluate the model\n",
    "- Evaluate the model1 with training data using X_train and y_train and give verbose as 0 and save it in train_acc1\n",
    "\n",
    "- In the similar way evaluate the model1 with test data using X_test and y_test using verbose as 0 and save it in test_acc1"
   ]
  },
  {
   "cell_type": "code",
   "execution_count": 12,
   "metadata": {
    "scrolled": true
   },
   "outputs": [
    {
     "name": "stdout",
     "output_type": "stream",
     "text": [
      "Train: 0.94, Test: 0.96\n"
     ]
    }
   ],
   "source": [
    "_, train_acc1 = model1.evaluate(X_train, y_train, verbose = 0)\n",
    "_,test_acc1= model1.evaluate(X_test, y_test, verbose = 0)\n",
    "print('Train: %.2f, Test: %.2f' % (train_acc1, test_acc1))\n"
   ]
  },
  {
   "cell_type": "markdown",
   "metadata": {},
   "source": [
    "### Run the below cell to look at the performance of the model1"
   ]
  },
  {
   "cell_type": "code",
   "execution_count": 13,
   "metadata": {
    "scrolled": false
   },
   "outputs": [
    {
     "data": {
      "image/png": "[encoded data removed]",
      "text/plain": [
       "<Figure size 432x288 with 1 Axes>"
      ]
     },
     "metadata": {
      "needs_background": "light"
     },
     "output_type": "display_data"
    },
    {
     "data": {
      "image/png": "[encoded data removed]",
      "text/plain": [
       "<Figure size 432x288 with 1 Axes>"
      ]
     },
     "metadata": {
      "needs_background": "light"
     },
     "output_type": "display_data"
    }
   ],
   "source": [
    "plt.figure(1)\n",
    "pyplot.plot(history1.history['accuracy'], label='train')\n",
    "pyplot.plot(history1.history['val_accuracy'], label='test')\n",
    "\n",
    "plt.figure(2)\n",
    "pyplot.plot(history1.history['loss'], label='train')\n",
    "pyplot.plot(history1.history['val_loss'], label='test')\n",
    "pyplot.legend()\n",
    "pyplot.show()"
   ]
  },
  {
   "cell_type": "markdown",
   "metadata": {},
   "source": [
    "---------------------------------------------------------------------------\n",
    "## **3.Applying Normalization after Activation Function**\n",
    "-------------------------------------------------------------------\n",
    "\n",
    "### Create Model\n",
    "\n",
    "Construct a fully-connected network structure defined using dense class\n",
    "- Create a sequential model2\n",
    "- The model2 expects rows of data with 30 variables (the input_dim=30 argument)\n",
    "- The first hidden layer has 90 nodes and uses the relu activation function.\n",
    "- Add Batch Normalization using BatchNormalization function to the model2.\n",
    "- The second hidden layer has 60 nodes and uses the relu activation function.\n",
    "- Add Batch Normalization using BatchNormalization function to the model2.\n",
    "- The third hidden layer has 30 nodes and uses the relu activation function.\n",
    "- Add Batch Normalization using BatchNormalization function to the model2.\n",
    "- The output layer has 1 node and uses the sigmoid activation function.\n",
    "- While comipling the model2 pass the following parameters -\n",
    "                    \n",
    "           -optimizer as Adagrad\n",
    "           -loss as binary cross entropy \n",
    "           -metrics as accuracy"
   ]
  },
  {
   "cell_type": "code",
   "execution_count": 14,
   "metadata": {},
   "outputs": [],
   "source": [
    "model2 = Sequential()\n",
    "model2.add(Dense(30, input_dim = 30))\n",
    "model2.add(Dense(90, activation = \"relu\"))\n",
    "model1.add(BatchNormalization())\n",
    "\n",
    "model2.add(Dense(60, activation = \"relu\"))\n",
    "model1.add(BatchNormalization())\n",
    "\n",
    "model2.add(Dense(30, activation = \"relu\"))\n",
    "model1.add(BatchNormalization())\n",
    "\n",
    "model2.add(Dense(1, activation = \"sigmoid\"))\n",
    "\n",
    "model2.compile(loss = \"binary_crossentropy\", \n",
    "             optimizer = \"Adagrad\", \n",
    "             metrics = [\"accuracy\"])\n",
    "\n",
    "\n",
    "\n"
   ]
  },
  {
   "cell_type": "markdown",
   "metadata": {},
   "source": [
    "### Fit the model\n",
    "- fit the model2 with X_train, y_train, epochs=50, batch_size=50,shuffle=False,validation_split=0.2,verbose=1 and save it in history2"
   ]
  },
  {
   "cell_type": "code",
   "execution_count": 15,
   "metadata": {
    "scrolled": true
   },
   "outputs": [
    {
     "name": "stdout",
     "output_type": "stream",
     "text": [
      "Train on 364 samples, validate on 91 samples\n",
      "Epoch 1/50\n",
      "364/364 [==============================] - 0s 628us/step - loss: 8.2360 - accuracy: 0.4863 - val_loss: 5.6061 - val_accuracy: 0.6484\n",
      "Epoch 2/50\n",
      "364/364 [==============================] - 0s 33us/step - loss: 6.3507 - accuracy: 0.6016 - val_loss: 5.6061 - val_accuracy: 0.6484\n",
      "Epoch 3/50\n",
      "364/364 [==============================] - 0s 34us/step - loss: 6.3507 - accuracy: 0.6016 - val_loss: 5.6061 - val_accuracy: 0.6484\n",
      "Epoch 4/50\n",
      "364/364 [==============================] - 0s 36us/step - loss: 6.3507 - accuracy: 0.6016 - val_loss: 5.6061 - val_accuracy: 0.6484\n",
      "Epoch 5/50\n",
      "364/364 [==============================] - 0s 35us/step - loss: 6.3507 - accuracy: 0.6016 - val_loss: 5.6061 - val_accuracy: 0.6484\n",
      "Epoch 6/50\n",
      "364/364 [==============================] - 0s 35us/step - loss: 6.3507 - accuracy: 0.6016 - val_loss: 5.6061 - val_accuracy: 0.6484\n",
      "Epoch 7/50\n",
      "364/364 [==============================] - 0s 36us/step - loss: 6.3507 - accuracy: 0.6016 - val_loss: 5.6061 - val_accuracy: 0.6484\n",
      "Epoch 8/50\n",
      "364/364 [==============================] - 0s 35us/step - loss: 6.3507 - accuracy: 0.6016 - val_loss: 5.6061 - val_accuracy: 0.6484\n",
      "Epoch 9/50\n",
      "364/364 [==============================] - 0s 34us/step - loss: 6.3507 - accuracy: 0.6016 - val_loss: 5.6061 - val_accuracy: 0.6484\n",
      "Epoch 10/50\n",
      "364/364 [==============================] - 0s 35us/step - loss: 6.3507 - accuracy: 0.6016 - val_loss: 5.6061 - val_accuracy: 0.6484\n",
      "Epoch 11/50\n",
      "364/364 [==============================] - 0s 35us/step - loss: 6.3507 - accuracy: 0.6016 - val_loss: 5.6061 - val_accuracy: 0.6484\n",
      "Epoch 12/50\n",
      "364/364 [==============================] - 0s 35us/step - loss: 6.3507 - accuracy: 0.6016 - val_loss: 5.6061 - val_accuracy: 0.6484\n",
      "Epoch 13/50\n",
      "364/364 [==============================] - 0s 38us/step - loss: 6.3507 - accuracy: 0.6016 - val_loss: 5.6061 - val_accuracy: 0.6484\n",
      "Epoch 14/50\n",
      "364/364 [==============================] - 0s 36us/step - loss: 6.3507 - accuracy: 0.6016 - val_loss: 5.6061 - val_accuracy: 0.6484\n",
      "Epoch 15/50\n",
      "364/364 [==============================] - 0s 35us/step - loss: 6.3507 - accuracy: 0.6016 - val_loss: 5.6061 - val_accuracy: 0.6484\n",
      "Epoch 16/50\n",
      "364/364 [==============================] - 0s 35us/step - loss: 6.3507 - accuracy: 0.6016 - val_loss: 5.6061 - val_accuracy: 0.6484\n",
      "Epoch 17/50\n",
      "364/364 [==============================] - 0s 36us/step - loss: 6.3507 - accuracy: 0.6016 - val_loss: 5.6061 - val_accuracy: 0.6484\n",
      "Epoch 18/50\n",
      "364/364 [==============================] - 0s 36us/step - loss: 6.3507 - accuracy: 0.6016 - val_loss: 5.6061 - val_accuracy: 0.6484\n",
      "Epoch 19/50\n",
      "364/364 [==============================] - 0s 35us/step - loss: 6.3507 - accuracy: 0.6016 - val_loss: 5.6061 - val_accuracy: 0.6484\n",
      "Epoch 20/50\n",
      "364/364 [==============================] - 0s 35us/step - loss: 6.3507 - accuracy: 0.6016 - val_loss: 5.6061 - val_accuracy: 0.6484\n",
      "Epoch 21/50\n",
      "364/364 [==============================] - 0s 36us/step - loss: 6.3507 - accuracy: 0.6016 - val_loss: 5.6061 - val_accuracy: 0.6484\n",
      "Epoch 22/50\n",
      "364/364 [==============================] - 0s 34us/step - loss: 6.3507 - accuracy: 0.6016 - val_loss: 5.6061 - val_accuracy: 0.6484\n",
      "Epoch 23/50\n",
      "364/364 [==============================] - 0s 35us/step - loss: 6.3507 - accuracy: 0.6016 - val_loss: 5.6061 - val_accuracy: 0.6484\n",
      "Epoch 24/50\n",
      "364/364 [==============================] - 0s 35us/step - loss: 6.3507 - accuracy: 0.6016 - val_loss: 5.6061 - val_accuracy: 0.6484\n",
      "Epoch 25/50\n",
      "364/364 [==============================] - 0s 35us/step - loss: 6.3507 - accuracy: 0.6016 - val_loss: 5.6061 - val_accuracy: 0.6484\n",
      "Epoch 26/50\n",
      "364/364 [==============================] - 0s 35us/step - loss: 6.3507 - accuracy: 0.6016 - val_loss: 5.6061 - val_accuracy: 0.6484\n",
      "Epoch 27/50\n",
      "364/364 [==============================] - 0s 35us/step - loss: 6.3507 - accuracy: 0.6016 - val_loss: 5.6061 - val_accuracy: 0.6484\n",
      "Epoch 28/50\n",
      "364/364 [==============================] - 0s 37us/step - loss: 6.3507 - accuracy: 0.6016 - val_loss: 5.6061 - val_accuracy: 0.6484\n",
      "Epoch 29/50\n",
      "364/364 [==============================] - 0s 35us/step - loss: 6.3507 - accuracy: 0.6016 - val_loss: 5.6061 - val_accuracy: 0.6484\n",
      "Epoch 30/50\n",
      "364/364 [==============================] - 0s 36us/step - loss: 6.3507 - accuracy: 0.6016 - val_loss: 5.6061 - val_accuracy: 0.6484\n",
      "Epoch 31/50\n",
      "364/364 [==============================] - 0s 35us/step - loss: 6.3507 - accuracy: 0.6016 - val_loss: 5.6061 - val_accuracy: 0.6484\n",
      "Epoch 32/50\n",
      "364/364 [==============================] - 0s 35us/step - loss: 6.3507 - accuracy: 0.6016 - val_loss: 5.6061 - val_accuracy: 0.6484\n",
      "Epoch 33/50\n",
      "364/364 [==============================] - 0s 36us/step - loss: 6.3507 - accuracy: 0.6016 - val_loss: 5.6061 - val_accuracy: 0.6484\n",
      "Epoch 34/50\n",
      "364/364 [==============================] - 0s 35us/step - loss: 6.3507 - accuracy: 0.6016 - val_loss: 5.6061 - val_accuracy: 0.6484\n",
      "Epoch 35/50\n",
      "364/364 [==============================] - 0s 35us/step - loss: 6.3507 - accuracy: 0.6016 - val_loss: 5.6061 - val_accuracy: 0.6484\n",
      "Epoch 36/50\n",
      "364/364 [==============================] - 0s 34us/step - loss: 6.3507 - accuracy: 0.6016 - val_loss: 5.6061 - val_accuracy: 0.6484\n",
      "Epoch 37/50\n",
      "364/364 [==============================] - 0s 35us/step - loss: 6.3507 - accuracy: 0.6016 - val_loss: 5.6061 - val_accuracy: 0.6484\n",
      "Epoch 38/50\n",
      "364/364 [==============================] - 0s 35us/step - loss: 6.3507 - accuracy: 0.6016 - val_loss: 5.6061 - val_accuracy: 0.6484\n",
      "Epoch 39/50\n",
      "364/364 [==============================] - 0s 35us/step - loss: 6.3507 - accuracy: 0.6016 - val_loss: 5.6061 - val_accuracy: 0.6484\n",
      "Epoch 40/50\n",
      "364/364 [==============================] - 0s 38us/step - loss: 6.3507 - accuracy: 0.6016 - val_loss: 5.6061 - val_accuracy: 0.6484\n",
      "Epoch 41/50\n",
      "364/364 [==============================] - 0s 36us/step - loss: 6.3507 - accuracy: 0.6016 - val_loss: 5.6061 - val_accuracy: 0.6484\n",
      "Epoch 42/50\n",
      "364/364 [==============================] - 0s 39us/step - loss: 6.3507 - accuracy: 0.6016 - val_loss: 5.6061 - val_accuracy: 0.6484\n",
      "Epoch 43/50\n",
      "364/364 [==============================] - 0s 38us/step - loss: 6.3507 - accuracy: 0.6016 - val_loss: 5.6061 - val_accuracy: 0.6484\n",
      "Epoch 44/50\n",
      "364/364 [==============================] - 0s 34us/step - loss: 6.3507 - accuracy: 0.6016 - val_loss: 5.6061 - val_accuracy: 0.6484\n",
      "Epoch 45/50\n",
      "364/364 [==============================] - 0s 34us/step - loss: 6.3507 - accuracy: 0.6016 - val_loss: 5.6061 - val_accuracy: 0.6484\n",
      "Epoch 46/50\n",
      "364/364 [==============================] - 0s 34us/step - loss: 6.3507 - accuracy: 0.6016 - val_loss: 5.6061 - val_accuracy: 0.6484\n",
      "Epoch 47/50\n",
      "364/364 [==============================] - 0s 34us/step - loss: 6.3507 - accuracy: 0.6016 - val_loss: 5.6061 - val_accuracy: 0.6484\n",
      "Epoch 48/50\n",
      "364/364 [==============================] - 0s 34us/step - loss: 6.3507 - accuracy: 0.6016 - val_loss: 5.6061 - val_accuracy: 0.6484\n",
      "Epoch 49/50\n",
      "364/364 [==============================] - 0s 35us/step - loss: 6.3507 - accuracy: 0.6016 - val_loss: 5.6061 - val_accuracy: 0.6484\n",
      "Epoch 50/50\n",
      "364/364 [==============================] - 0s 34us/step - loss: 6.3507 - accuracy: 0.6016 - val_loss: 5.6061 - val_accuracy: 0.6484\n"
     ]
    }
   ],
   "source": [
    "history2 = model2.fit(X_train, y_train, epochs=50, batch_size=50,shuffle=False,validation_split=0.2,verbose=1)\n"
   ]
  },
  {
   "cell_type": "markdown",
   "metadata": {},
   "source": [
    "### Evaluate the model\n",
    "- Evaluate the model2 with training data using X_train and y_train and give verbose as 0 and save it in train_acc2\n",
    "\n",
    "- In the similar way evaluate the model2 with test data using X_test and y_test using verbose as 0 and save it in test_acc2"
   ]
  },
  {
   "cell_type": "code",
   "execution_count": 16,
   "metadata": {},
   "outputs": [
    {
     "name": "stdout",
     "output_type": "stream",
     "text": [
      "Train: 0.61, Test: 0.69\n"
     ]
    }
   ],
   "source": [
    "_, train_acc2 = model2.evaluate(X_train, y_train, verbose = 0)\n",
    "_,test_acc2= model2.evaluate(X_test, y_test, verbose = 0)\n",
    "print('Train: %.2f, Test: %.2f' % (train_acc2, test_acc2))\n"
   ]
  },
  {
   "cell_type": "markdown",
   "metadata": {},
   "source": [
    "### Run the below cell to look at the performance of the model2"
   ]
  },
  {
   "cell_type": "code",
   "execution_count": 17,
   "metadata": {
    "scrolled": false
   },
   "outputs": [
    {
     "data": {
      "image/png": "[encoded data removed]",
      "text/plain": [
       "<Figure size 432x288 with 1 Axes>"
      ]
     },
     "metadata": {
      "needs_background": "light"
     },
     "output_type": "display_data"
    },
    {
     "data": {
      "image/png": "[encoded data removed]",
      "text/plain": [
       "<Figure size 432x288 with 1 Axes>"
      ]
     },
     "metadata": {
      "needs_background": "light"
     },
     "output_type": "display_data"
    }
   ],
   "source": [
    "plt.figure(1)\n",
    "pyplot.plot(history2.history['accuracy'], label='train')\n",
    "pyplot.plot(history2.history['val_accuracy'], label='test')\n",
    "\n",
    "plt.figure(2)\n",
    "pyplot.plot(history2.history['loss'], label='train')\n",
    "pyplot.plot(history2.history['val_loss'], label='test')\n",
    "pyplot.legend()\n",
    "pyplot.show()"
   ]
  },
  {
   "cell_type": "markdown",
   "metadata": {},
   "source": [
    "### Run the below cell to plot the results"
   ]
  },
  {
   "cell_type": "code",
   "execution_count": 18,
   "metadata": {
    "scrolled": false
   },
   "outputs": [
    {
     "data": {
      "text/plain": [
       "<Figure size 432x288 with 0 Axes>"
      ]
     },
     "metadata": {},
     "output_type": "display_data"
    },
    {
     "data": {
      "image/png": "[encoded data removed]",
      "text/plain": [
       "<Figure size 720x576 with 1 Axes>"
      ]
     },
     "metadata": {
      "needs_background": "light"
     },
     "output_type": "display_data"
    },
    {
     "data": {
      "image/png": "[encoded data removed]",
      "text/plain": [
       "<Figure size 720x576 with 1 Axes>"
      ]
     },
     "metadata": {
      "needs_background": "light"
     },
     "output_type": "display_data"
    }
   ],
   "source": [
    "train_list=[train_acc,train_acc1,train_acc2]\n",
    "test_list=[test_acc,test_acc1,test_acc2]\n",
    "\n",
    "df=pd.DataFrame(train_list)\n",
    "\n",
    "df[\"test_acc\"]=test_list\n",
    "\n",
    "df=df.rename(columns={0:\"train_acc\"})\n",
    "\n",
    "df[\"label\"]=[\"Without_Norm\",\"With_Norm_Before_Activation\",\"With_Norm_After_Activation\"]\n",
    "plt.figure(1)\n",
    "pyplot.figure(figsize=(10,8))\n",
    "#pyplot.xticks(grid_result1.cv_results_['mean_test_score'])\n",
    "pyplot.title(\"Train Accuracy of the model\")\n",
    "plot1=sns.barplot(df[\"label\"],df[\"train_acc\"],order=df[\"label\"])\n",
    "plot1.set(ylabel='Score')\n",
    "plt.figure(2)\n",
    "pyplot.figure(figsize=(10,8))\n",
    "#pyplot.xticks(grid_result1.cv_results_['mean_test_score'])\n",
    "pyplot.title(\"Test Accuracy of the model\")\n",
    "plot2=sns.barplot(df[\"label\"],df[\"test_acc\"],order=df[\"label\"])\n",
    "plot2.set(ylabel='Score')\n",
    "pyplot.show() "
   ]
  },
  {
   "cell_type": "markdown",
   "metadata": {},
   "source": [
    "### Run the below cell to save the models"
   ]
  },
  {
   "cell_type": "code",
   "execution_count": 19,
   "metadata": {},
   "outputs": [],
   "source": [
    "# serialize model to JSON\n",
    "model_json = model.to_json()\n",
    "with open(\"model.json\", \"w\") as json_file:\n",
    "    json_file.write(model_json)\n",
    "# serialize weights to HDF5\n",
    "model.save_weights(\"model.h5\")\n",
    "\n",
    "# serialize model to JSON\n",
    "model_json1 = model1.to_json()\n",
    "with open(\"model1.json\", \"w\") as json_file1:\n",
    "    json_file1.write(model_json1)\n",
    "# serialize weights to HDF5\n",
    "model1.save_weights(\"model1.h5\")\n",
    "\n",
    "# serialize model to JSON\n",
    "model_json2 = model2.to_json()\n",
    "with open(\"model2.json\", \"w\") as json_file2:\n",
    "    json_file2.write(model_json2)\n",
    "# serialize weights to HDF5\n",
    "model2.save_weights(\"model2.h5\")"
   ]
  },
  {
   "cell_type": "markdown",
   "metadata": {},
   "source": [
    "### Run the below cell to save the scores "
   ]
  },
  {
   "cell_type": "code",
   "execution_count": 20,
   "metadata": {},
   "outputs": [],
   "source": [
    "with open(\"train_acc1.txt\",\"w\") as f:\n",
    "    f.write(str(round(train_acc,2)))\n",
    "with open(\"test_acc1.txt\",\"w\") as f:\n",
    "    f.write(str(round(test_acc,2)))\n",
    "\n",
    "with open(\"train_acc2.txt\",\"w\") as f:\n",
    "    f.write(str(round(train_acc1,2)))\n",
    "with open(\"test_acc2.txt\",\"w\") as f:\n",
    "    f.write(str(round(test_acc1,2)))\n",
    "    \n",
    "with open(\"train_acc3.txt\",\"w\") as f:\n",
    "    f.write(str(round(train_acc2,2)))\n",
    "with open(\"test_acc3.txt\",\"w\") as f:\n",
    "    f.write(str(round(test_acc2,2)))\n",
    "        "
   ]
  },
  {
   "cell_type": "code",
   "execution_count": null,
   "metadata": {},
   "outputs": [],
   "source": []
  }
 ],
 "metadata": {
  "kernelspec": {
   "display_name": "Python 3",
   "language": "python",
   "name": "python3"
  },
  "language_info": {
   "codemirror_mode": {
    "name": "ipython",
    "version": 3
   },
   "file_extension": ".py",
   "mimetype": "text/x-python",
   "name": "python",
   "nbconvert_exporter": "python",
   "pygments_lexer": "ipython3",
   "version": "3.5.2"
  }
 },
 "nbformat": 4,
 "nbformat_minor": 2
}
