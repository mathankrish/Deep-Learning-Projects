{
  "nbformat": 4,
  "nbformat_minor": 0,
  "metadata": {
    "colab": {
      "provenance": []
    },
    "kernelspec": {
      "name": "python3",
      "display_name": "Python 3"
    },
    "language_info": {
      "name": "python"
    },
    "accelerator": "GPU",
    "gpuClass": "standard"
  },
  "cells": [
    {
      "cell_type": "code",
      "execution_count": null,
      "metadata": {
        "id": "hMpsWUo7sQC5"
      },
      "outputs": [],
      "source": [
        "import zipfile"
      ]
    },
    {
      "cell_type": "code",
      "source": [
        "import os\n",
        "\n",
        "for dirpath, dirnames, filenames in os.walk(\"/content/drive/MyDrive/fridge_oven\"):\n",
        "\n",
        "  print(f\"There are {len(dirnames)} directories and {len(filenames)} images in this {dirpath}.\")"
      ],
      "metadata": {
        "colab": {
          "base_uri": "https://localhost:8080/"
        },
        "id": "6LMXDBe0te3N",
        "outputId": "4b868789-0368-4b90-e5b1-5c3003e224a9"
      },
      "execution_count": null,
      "outputs": [
        {
          "output_type": "stream",
          "name": "stdout",
          "text": [
            "There are 2 directories and 0 images in this /content/drive/MyDrive/fridge_oven.\n",
            "There are 2 directories and 0 images in this /content/drive/MyDrive/fridge_oven/test.\n",
            "There are 0 directories and 10 images in this /content/drive/MyDrive/fridge_oven/test/fridge.\n",
            "There are 0 directories and 10 images in this /content/drive/MyDrive/fridge_oven/test/oven.\n",
            "There are 2 directories and 0 images in this /content/drive/MyDrive/fridge_oven/train.\n",
            "There are 1 directories and 20 images in this /content/drive/MyDrive/fridge_oven/train/fridge.\n",
            "There are 0 directories and 0 images in this /content/drive/MyDrive/fridge_oven/train/fridge/.ipynb_checkpoints.\n",
            "There are 1 directories and 25 images in this /content/drive/MyDrive/fridge_oven/train/oven.\n",
            "There are 0 directories and 0 images in this /content/drive/MyDrive/fridge_oven/train/oven/.ipynb_checkpoints.\n"
          ]
        }
      ]
    },
    {
      "cell_type": "code",
      "source": [
        "import tensorflow as tf\n",
        "from tensorflow.keras.preprocessing.image import ImageDataGenerator"
      ],
      "metadata": {
        "id": "0FtA-O6mvVdm"
      },
      "execution_count": null,
      "outputs": []
    },
    {
      "cell_type": "code",
      "source": [
        "image_shape = (224, 224)\n",
        "batch_size = 32\n",
        "\n",
        "train_dir = \"/content/drive/MyDrive/fridge_oven/train\"\n",
        "test_dir = \"/content/drive/MyDrive/fridge_oven/test\"\n",
        "\n",
        "train_gen = ImageDataGenerator(rescale = 1/255.)\n",
        "test_gen = ImageDataGenerator(rescale = 1/255.)\n",
        "\n",
        "\n",
        "train_data = train_gen.flow_from_directory(train_dir, \n",
        "                                     target_size = image_shape, \n",
        "                                     batch_size = batch_size, \n",
        "                                     class_mode = \"binary\", \n",
        "                                     seed = 42)\n",
        "\n",
        "test_data = test_gen.flow_from_directory(test_dir, \n",
        "                                     target_size = image_shape, \n",
        "                                     batch_size = batch_size, \n",
        "                                     class_mode = \"binary\", \n",
        "                                     seed = 42)"
      ],
      "metadata": {
        "colab": {
          "base_uri": "https://localhost:8080/"
        },
        "id": "p6yIUrT3wJ4Z",
        "outputId": "22e240b3-c863-4c7a-b46f-05f55159f8c2"
      },
      "execution_count": null,
      "outputs": [
        {
          "output_type": "stream",
          "name": "stdout",
          "text": [
            "Found 44 images belonging to 2 classes.\n",
            "Found 20 images belonging to 2 classes.\n"
          ]
        }
      ]
    },
    {
      "cell_type": "code",
      "source": [
        "import tensorflow as tf\n",
        "import tensorflow_hub as hub\n",
        "from tensorflow.keras import layers"
      ],
      "metadata": {
        "id": "Qi-nDjkCzYX-"
      },
      "execution_count": null,
      "outputs": []
    },
    {
      "cell_type": "code",
      "source": [
        "mobilenet = \"https://tfhub.dev/google/tf2-preview/mobilenet_v2/feature_vector/4\""
      ],
      "metadata": {
        "id": "dNuJQNd5xjdm"
      },
      "execution_count": null,
      "outputs": []
    },
    {
      "cell_type": "code",
      "source": [
        "def create_model(model_url, num_classes=2):\n",
        "  # Download the pretrained model and save it as a Keras layer\n",
        "  feature_extractor_layer = hub.KerasLayer(model_url,\n",
        "                                           trainable=False, # freeze the underlying patterns\n",
        "                                           name='feature_extraction_layer',\n",
        "                                           input_shape=image_shape+(3,)) # define the input image shape\n",
        "  \n",
        "  # Create our own model\n",
        "  model = tf.keras.Sequential([\n",
        "    feature_extractor_layer, # use the feature extraction layer as the base\n",
        "    layers.Dense(1, activation='sigmoid', name='output_layer') # create our own output layer      \n",
        "  ])\n",
        "\n",
        "  return model"
      ],
      "metadata": {
        "id": "4ulC1FgazZ39"
      },
      "execution_count": null,
      "outputs": []
    },
    {
      "cell_type": "code",
      "source": [
        "mobilenet_model = create_model(mobilenet, num_classes = train_data.num_classes)"
      ],
      "metadata": {
        "id": "lwEpB4YVzwRu"
      },
      "execution_count": null,
      "outputs": []
    },
    {
      "cell_type": "code",
      "source": [
        "# compile\n",
        "\n",
        "mobilenet_model.compile(loss = tf.keras.losses.BinaryCrossentropy(from_logits= True), \n",
        "                        optimizer = tf.keras.optimizers.Adam(), \n",
        "                        metrics = [\"accuracy\"])"
      ],
      "metadata": {
        "id": "cuK3leZ20XaP"
      },
      "execution_count": null,
      "outputs": []
    },
    {
      "cell_type": "code",
      "source": [
        "train_data.image_shape, test_data.image_shape"
      ],
      "metadata": {
        "colab": {
          "base_uri": "https://localhost:8080/"
        },
        "id": "9GouwSc61qj0",
        "outputId": "19f0d693-29f1-494f-9774-c803a9780c6e"
      },
      "execution_count": null,
      "outputs": [
        {
          "output_type": "execute_result",
          "data": {
            "text/plain": [
              "((224, 224, 3), (224, 224, 3))"
            ]
          },
          "metadata": {},
          "execution_count": 37
        }
      ]
    },
    {
      "cell_type": "code",
      "source": [
        "history = mobilenet_model.fit(train_data, \n",
        "                    epochs = 5, \n",
        "                    steps_per_epoch = len(train_data), \n",
        "                    validation_data = test_data, \n",
        "                    validation_steps = len(test_data)\n",
        "                    )"
      ],
      "metadata": {
        "colab": {
          "base_uri": "https://localhost:8080/"
        },
        "id": "inVmpG-s0t9e",
        "outputId": "3160933b-3eaa-4cef-8d3d-6da15e00def6"
      },
      "execution_count": null,
      "outputs": [
        {
          "output_type": "stream",
          "name": "stdout",
          "text": [
            "Epoch 1/5\n",
            "2/2 [==============================] - 29s 16s/step - loss: 0.9172 - accuracy: 0.2955 - val_loss: 0.7070 - val_accuracy: 0.5500\n",
            "Epoch 2/5\n",
            "2/2 [==============================] - 0s 244ms/step - loss: 0.7074 - accuracy: 0.4318 - val_loss: 0.5864 - val_accuracy: 0.7500\n",
            "Epoch 3/5\n",
            "2/2 [==============================] - 0s 161ms/step - loss: 0.6055 - accuracy: 0.7045 - val_loss: 0.4874 - val_accuracy: 0.8500\n",
            "Epoch 4/5\n",
            "2/2 [==============================] - 0s 155ms/step - loss: 0.4885 - accuracy: 0.7727 - val_loss: 0.4081 - val_accuracy: 0.9000\n",
            "Epoch 5/5\n",
            "2/2 [==============================] - 0s 148ms/step - loss: 0.3951 - accuracy: 0.9318 - val_loss: 0.3487 - val_accuracy: 0.9000\n"
          ]
        }
      ]
    },
    {
      "cell_type": "code",
      "source": [],
      "metadata": {
        "id": "e298Ngtp1Klg"
      },
      "execution_count": null,
      "outputs": []
    }
  ]
}